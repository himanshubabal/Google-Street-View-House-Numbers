{
 "cells": [
  {
   "cell_type": "code",
   "execution_count": null,
   "metadata": {
    "collapsed": false
   },
   "outputs": [],
   "source": [
    "from __future__ import print_function\n",
    "import matplotlib.pyplot as plt\n",
    "import numpy as np\n",
    "import os\n",
    "import sys\n",
    "import tarfile\n",
    "from IPython.display import display, Image\n",
    "from PIL import Image\n",
    "from scipy import ndimage\n",
    "from six.moves.urllib.request import urlretrieve\n",
    "from six.moves import cPickle as pickle\n",
    "import scipy.ndimage\n",
    "import scipy.misc\n",
    "%matplotlib inline\n",
    "import h5py\n",
    "import gc"
   ]
  },
  {
   "cell_type": "code",
   "execution_count": null,
   "metadata": {
    "collapsed": true
   },
   "outputs": [],
   "source": [
    "dataset_location = 'datasets/svhn_raw/'"
   ]
  },
  {
   "cell_type": "code",
   "execution_count": null,
   "metadata": {
    "collapsed": true
   },
   "outputs": [],
   "source": [
    "# The DigitStructFile is just a wrapper around the h5py data.  It basically references \n",
    "#    inf:              The input h5 matlab file\n",
    "#    digitStructName   The h5 ref to all the file names\n",
    "#    digitStructBbox   The h5 ref to all struc data\n",
    "class DigitStructFile:\n",
    "    def __init__(self, inf):\n",
    "        self.inf = h5py.File(inf, 'r')\n",
    "        self.digitStructName = self.inf['digitStruct']['name']\n",
    "        self.digitStructBbox = self.inf['digitStruct']['bbox']\n",
    "\n",
    "# getName returns the 'name' string for for the n(th) digitStruct. \n",
    "    def getName(self,n):\n",
    "        return ''.join([chr(c[0]) for c in self.inf[self.digitStructName[n][0]].value])\n",
    "\n",
    "# bboxHelper handles the coding difference when there is exactly one bbox or an array of bbox. \n",
    "    def bboxHelper(self,attr):\n",
    "        if (len(attr) > 1):\n",
    "            attr = [self.inf[attr.value[j].item()].value[0][0] for j in range(len(attr))]\n",
    "        else:\n",
    "            attr = [attr.value[0][0]]\n",
    "        return attr\n",
    "\n",
    "# getBbox returns a dict of data for the n(th) bbox. \n",
    "    def getBbox(self,n):\n",
    "        bbox = {}\n",
    "        bb = self.digitStructBbox[n].item()\n",
    "        bbox['height'] = self.bboxHelper(self.inf[bb][\"height\"])\n",
    "        bbox['label'] = self.bboxHelper(self.inf[bb][\"label\"])\n",
    "        bbox['left'] = self.bboxHelper(self.inf[bb][\"left\"])\n",
    "        bbox['top'] = self.bboxHelper(self.inf[bb][\"top\"])\n",
    "        bbox['width'] = self.bboxHelper(self.inf[bb][\"width\"])\n",
    "        return bbox\n",
    "\n",
    "    def getDigitStructure(self,n):\n",
    "        s = self.getBbox(n)\n",
    "        s['name']=self.getName(n)\n",
    "        return s\n",
    "\n",
    "# getAllDigitStructure returns all the digitStruct from the input file.     \n",
    "    def getAllDigitStructure(self):\n",
    "        return [self.getDigitStructure(i) for i in range(len(self.digitStructName))]\n",
    "\n",
    "# Return a restructured version of the dataset (one structure by boxed digit).\n",
    "#\n",
    "#   Return a list of such dicts :\n",
    "#      'filename' : filename of the samples\n",
    "#      'boxes' : list of such dicts (one by digit) :\n",
    "#          'label' : 1 to 9 corresponding digits. 10 for digit '0' in image.\n",
    "#          'left', 'top' : position of bounding box\n",
    "#          'width', 'height' : dimension of bounding box\n",
    "#\n",
    "# Note: We may turn this to a generator, if memory issues arise.\n",
    "    def getAllDigitStructure_ByDigit(self):\n",
    "        pictDat = self.getAllDigitStructure()\n",
    "        result = []\n",
    "        structCnt = 1\n",
    "        for i in range(len(pictDat)):\n",
    "            item = { 'filename' : pictDat[i][\"name\"] }\n",
    "            figures = []\n",
    "            for j in range(len(pictDat[i]['height'])):\n",
    "               figure = {}\n",
    "               figure['height'] = pictDat[i]['height'][j]\n",
    "               figure['label']  = pictDat[i]['label'][j]\n",
    "               figure['left']   = pictDat[i]['left'][j]\n",
    "               figure['top']    = pictDat[i]['top'][j]\n",
    "               figure['width']  = pictDat[i]['width'][j]\n",
    "               figures.append(figure)\n",
    "            structCnt = structCnt + 1\n",
    "            item['boxes'] = figures\n",
    "            result.append(item)\n",
    "        return result"
   ]
  },
  {
   "cell_type": "code",
   "execution_count": null,
   "metadata": {
    "collapsed": true
   },
   "outputs": [],
   "source": [
    "def load_image(file_name, folder_name) :\n",
    "    image_name = dataset_location + folder_name + '/' + file_name\n",
    "    img = Image.open(image_name).convert('L')\n",
    "    img.load()\n",
    "    data = np.asarray(img, dtype=\"int32\")\n",
    "    return data"
   ]
  },
  {
   "cell_type": "code",
   "execution_count": null,
   "metadata": {
    "collapsed": true
   },
   "outputs": [],
   "source": [
    "def plot_img(image):\n",
    "    plt.imshow(image)\n",
    "    plt.show()"
   ]
  },
  {
   "cell_type": "code",
   "execution_count": null,
   "metadata": {
    "collapsed": false
   },
   "outputs": [],
   "source": [
    "# fin = os.path.join(dataset_location + 'test', 'digitStruct.mat')\n",
    "# dsf = DigitStructFile(fin)\n",
    "# test_data = dsf.getAllDigitStructure_ByDigit()"
   ]
  },
  {
   "cell_type": "code",
   "execution_count": null,
   "metadata": {
    "collapsed": true
   },
   "outputs": [],
   "source": [
    "# fin = os.path.join(dataset_location + 'train', 'digitStruct.mat')\n",
    "# dsf = DigitStructFile(fin)\n",
    "# train_data = dsf.getAllDigitStructure_ByDigit()"
   ]
  },
  {
   "cell_type": "code",
   "execution_count": null,
   "metadata": {
    "collapsed": true
   },
   "outputs": [],
   "source": [
    "# fin = os.path.join(dataset_location + 'extra', 'digitStruct.mat')\n",
    "# dsf = DigitStructFile(fin)\n",
    "# extra_data = dsf.getAllDigitStructure_ByDigit()"
   ]
  },
  {
   "cell_type": "code",
   "execution_count": null,
   "metadata": {
    "collapsed": false
   },
   "outputs": [],
   "source": [
    "pickle_file = 'datasets/pickles/SVHN_new_data_struct.pickle'\n",
    "\n",
    "with open(pickle_file, 'rb') as f:\n",
    "    save = pickle.load(f)\n",
    "    test_data = save['test_data']\n",
    "    train_data = save['train_data']\n",
    "    extra_data = save['extra_data']\n",
    "    del save\n",
    "print(len(train_data))\n",
    "print(len(test_data))\n",
    "print(len(extra_data))"
   ]
  },
  {
   "cell_type": "code",
   "execution_count": null,
   "metadata": {
    "collapsed": false
   },
   "outputs": [],
   "source": [
    "test_images = np.ndarray([len(test_data), 32, 96, 1], dtype='int32')\n",
    "test_labels = np.ndarray([len(test_data), 6], dtype='int32')\n",
    "folder_name = 'test'\n",
    "\n",
    "l = len(test_data)\n",
    "\n",
    "for i in range(l) :\n",
    "    image = test_data[i]\n",
    "    im = load_image(image['filename'], folder_name)\n",
    "    # Resizing Image to be of 32x96x3 dimensions\n",
    "    im = scipy.misc.imresize(im, (32, 96))\n",
    "    \n",
    "    # Finding No of Digits in given image\n",
    "    no_of_digits = len(image['boxes'])\n",
    "    # If no of digits is > 5\n",
    "    # Leave this example out, as we don't need it\n",
    "    # Continue to next Iteration\n",
    "    if no_of_digits > 5:\n",
    "        print('more then 5 digits', image['boxes'])\n",
    "        continue\n",
    "\n",
    "    # Numpy Array 'dig' will contain digits in the format :\n",
    "    # [No_of_digits, _, _, _, _, _]\n",
    "    dig = np.array([])\n",
    "    dig = np.append(dig, no_of_digits)\n",
    "    \n",
    "    for j in range(no_of_digits) :\n",
    "        digit = image['boxes'][j]['label']\n",
    "        dig = np.append(dig, digit)\n",
    "\n",
    "    # Appending '0' to represent Empty Space\n",
    "    zeros = 5 - no_of_digits\n",
    "    for z in range(zeros) :\n",
    "        dig = np.append(dig, 0)\n",
    "        \n",
    "\n",
    "    im = im[:,:,np.newaxis]\n",
    "    test_images[i,:,:,:] = im[:,:,:]\n",
    "    test_labels[i,:] = dig\n",
    "    \n",
    "    if i % 1500 == 0:\n",
    "        print((i/l)*100)\n",
    "        "
   ]
  },
  {
   "cell_type": "code",
   "execution_count": null,
   "metadata": {
    "collapsed": false
   },
   "outputs": [],
   "source": [
    "l = len(train_data)\n",
    "more_then_5_counter = 0\n",
    "\n",
    "train_images = np.ndarray([l, 32, 96, 1], dtype='int32')\n",
    "train_labels = np.ndarray([l, 6], dtype='int32')\n",
    "folder_name = 'train'\n",
    "\n",
    "\n",
    "for i in range(l) :\n",
    "    image = train_data[i]\n",
    "    im = load_image(image['filename'], folder_name)\n",
    "    im = scipy.misc.imresize(im, (32, 96))\n",
    "    \n",
    "    no_of_digits = len(image['boxes'])\n",
    "    if no_of_digits > 5:\n",
    "        more_then_5_counter += 1\n",
    "        continue\n",
    "\n",
    "    dig = np.array([])\n",
    "    dig = np.append(dig, no_of_digits)\n",
    "\n",
    "    for j in range(no_of_digits) :\n",
    "        digit = image['boxes'][j]['label']\n",
    "        dig = np.append(dig, digit)\n",
    "\n",
    "    zeros = 5 - no_of_digits\n",
    "    for z in range(zeros) :\n",
    "        dig = np.append(dig, 0)\n",
    "        \n",
    "    im = im[:,:,np.newaxis]\n",
    "    train_images[i,:,:,:] = im[:,:,:]\n",
    "    train_labels[i,:] = dig\n",
    "    \n",
    "    \n",
    "    if i % 5000 == 0:\n",
    "        print('progress : ', (i/l)*100, '%')\n",
    "        \n",
    "print('Cases Containing More then 5 Digits : ', more_then_5_counter)"
   ]
  },
  {
   "cell_type": "code",
   "execution_count": null,
   "metadata": {
    "collapsed": false
   },
   "outputs": [],
   "source": [
    "l = len(extra_data)\n",
    "more_then_5_counter = 0\n",
    "\n",
    "extra_images = np.ndarray([l, 32, 96, 1], dtype='int32')\n",
    "extra_labels = np.ndarray([l, 6], dtype='int32')\n",
    "folder_name = 'extra'\n",
    "\n",
    "for i in range(l) :\n",
    "    image = extra_data[i]\n",
    "    im = load_image(image['filename'], folder_name)\n",
    "    im = scipy.misc.imresize(im, (32, 96))\n",
    "    \n",
    "    no_of_digits = len(image['boxes'])\n",
    "    if no_of_digits > 5:\n",
    "        more_then_5_counter += 1\n",
    "        continue\n",
    "\n",
    "    dig = np.array([])\n",
    "    dig = np.append(dig, no_of_digits)\n",
    "\n",
    "    for j in range(no_of_digits) :\n",
    "        digit = image['boxes'][j]['label']\n",
    "        dig = np.append(dig, digit)\n",
    "\n",
    "    zeros = 5 - no_of_digits\n",
    "    for z in range(zeros) :\n",
    "        dig = np.append(dig, 0)\n",
    "        \n",
    "        \n",
    "    im = im[:,:,np.newaxis]\n",
    "    extra_images[i,:,:,:] = im[:,:,:]\n",
    "    extra_labels[i,:] = dig\n",
    "    \n",
    "    if i % 25000 == 0:\n",
    "        print('progress : ', (i/l)*100, '%')\n",
    "        \n",
    "print('Cases Containing More then 5 Digits : ', more_then_5_counter)"
   ]
  },
  {
   "cell_type": "code",
   "execution_count": null,
   "metadata": {
    "collapsed": true
   },
   "outputs": [],
   "source": [
    "def randomize_dataset(images, labels):\n",
    "    shuffle = list(zip(images, labels))\n",
    "    np.random.shuffle(shuffle)\n",
    "    i, l = zip(*shuffle)\n",
    "    i, l = np.asarray(i), np.asarray(l)\n",
    "    return i, l"
   ]
  },
  {
   "cell_type": "code",
   "execution_count": null,
   "metadata": {
    "collapsed": false
   },
   "outputs": [],
   "source": [
    "%whos"
   ]
  },
  {
   "cell_type": "code",
   "execution_count": null,
   "metadata": {
    "collapsed": false
   },
   "outputs": [],
   "source": [
    "test_images, test_labels = randomize_dataset(test_images, test_labels)\n",
    "train_images, train_labels = randomize_dataset(train_images, train_labels)\n",
    "extra_images, extra_labels = randomize_dataset(extra_images, extra_labels)"
   ]
  },
  {
   "cell_type": "code",
   "execution_count": null,
   "metadata": {
    "collapsed": true
   },
   "outputs": [],
   "source": [
    "validation_set_size = 5500"
   ]
  },
  {
   "cell_type": "code",
   "execution_count": null,
   "metadata": {
    "collapsed": true
   },
   "outputs": [],
   "source": [
    "valid_images = extra_images[:validation_set_size]\n",
    "valid_labels = extra_labels[:validation_set_size]"
   ]
  },
  {
   "cell_type": "code",
   "execution_count": null,
   "metadata": {
    "collapsed": true
   },
   "outputs": [],
   "source": [
    "left_extra_images = extra_images[:-validation_set_size]\n",
    "left_extra_labels = extra_labels[:-validation_set_size]"
   ]
  },
  {
   "cell_type": "code",
   "execution_count": null,
   "metadata": {
    "collapsed": false
   },
   "outputs": [],
   "source": [
    "train_new_images = np.concatenate((left_extra_images,train_images),axis=0)\n",
    "train_new_labels = np.concatenate((left_extra_labels,train_labels),axis=0)"
   ]
  },
  {
   "cell_type": "code",
   "execution_count": null,
   "metadata": {
    "collapsed": false
   },
   "outputs": [],
   "source": [
    "hdf_file = 'datasets/pickles/SVHN_multi.hdf5'\n",
    "\n",
    "hdf = h5py.File(hdf_file, 'w')\n",
    "\n",
    "with hdf as hf:\n",
    "    hf.create_dataset(\"train_images\",  data=train_new_images)\n",
    "    hf.create_dataset(\"train_labels\",  data=train_new_labels)\n",
    "    hf.create_dataset(\"valid_images\",  data=valid_images)\n",
    "    hf.create_dataset(\"valid_labels\",  data=valid_labels)\n",
    "    hf.create_dataset(\"test_images\",  data=test_images)\n",
    "    hf.create_dataset(\"test_labels\",  data=test_labels)\n",
    "    \n",
    "print('SVHN Datasets ready in SVHN_multi.hdf5')"
   ]
  }
 ],
 "metadata": {
  "anaconda-cloud": {},
  "kernelspec": {
   "display_name": "Python 3",
   "language": "python",
   "name": "python3"
  },
  "language_info": {
   "codemirror_mode": {
    "name": "ipython",
    "version": 3
   },
   "file_extension": ".py",
   "mimetype": "text/x-python",
   "name": "python",
   "nbconvert_exporter": "python",
   "pygments_lexer": "ipython3",
   "version": "3.5.2"
  },
  "widgets": {
   "state": {},
   "version": "1.1.2"
  }
 },
 "nbformat": 4,
 "nbformat_minor": 1
}
