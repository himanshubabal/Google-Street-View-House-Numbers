{
 "cells": [
  {
   "cell_type": "code",
   "execution_count": 1,
   "metadata": {
    "collapsed": true
   },
   "outputs": [],
   "source": [
    "from __future__ import print_function\n",
    "import numpy as np\n",
    "import tensorflow as tf\n",
    "from six.moves import cPickle as pickle\n",
    "from six.moves import range\n",
    "import pickle\n",
    "import scipy.io\n",
    "import idx2numpy\n",
    "import random\n",
    "from matplotlib import pyplot as plt"
   ]
  },
  {
   "cell_type": "code",
   "execution_count": 5,
   "metadata": {
    "collapsed": true
   },
   "outputs": [],
   "source": [
    "train_images = idx2numpy.convert_from_file('train-images-idx3-ubyte')\n",
    "train_label = idx2numpy.convert_from_file('train-labels-idx1-ubyte')\n",
    "\n",
    "test_images = idx2numpy.convert_from_file('t10k-images-idx3-ubyte')\n",
    "test_label = idx2numpy.convert_from_file('t10k-labels-idx1-ubyte')"
   ]
  },
  {
   "cell_type": "code",
   "execution_count": 6,
   "metadata": {
    "collapsed": true
   },
   "outputs": [],
   "source": [
    "train = {}\n",
    "test = {}\n",
    "\n",
    "train['X'] = train_images\n",
    "train['y'] = train_label\n",
    "\n",
    "test['X'] = test_images\n",
    "test['y'] = test_label"
   ]
  },
  {
   "cell_type": "code",
   "execution_count": 7,
   "metadata": {
    "collapsed": false
   },
   "outputs": [
    {
     "name": "stdout",
     "output_type": "stream",
     "text": [
      "train :  (60000, 28, 28) (60000,)\n",
      "test :  (10000, 28, 28) (10000,)\n"
     ]
    }
   ],
   "source": [
    "print('train : ', train_images.shape, train_label.shape)\n",
    "print('test : ', test_images.shape, test_label.shape)"
   ]
  },
  {
   "cell_type": "code",
   "execution_count": 8,
   "metadata": {
    "collapsed": true
   },
   "outputs": [],
   "source": [
    "# Inserts 'seq' sequence's elements at random places inside the list 'lst'\n",
    "\n",
    "def random_insert_seq(lst, seq):\n",
    "    insert_locations = random.sample(xrange(len(lst) + len(seq)), len(seq))\n",
    "    inserts = dict(zip(insert_locations, seq))\n",
    "    input = iter(lst)\n",
    "    lst[:] = [inserts[pos] if pos in inserts else next(input)\n",
    "        for pos in xrange(len(lst) + len(seq))]"
   ]
  },
  {
   "cell_type": "code",
   "execution_count": 9,
   "metadata": {
    "collapsed": true
   },
   "outputs": [],
   "source": [
    "def randomize_inputs(X_training, Y_labelling, no_of_white_images):\n",
    "    w = X_training.shape[1]\n",
    "    n = X_training.shape[0]\n",
    "    k = no_of_white_images\n",
    "    print ('w : ', w, ' n : ', n, ' k : ', k)\n",
    "    \n",
    "    Y_expand_label = np.zeros((n, 1, w), dtype=np.int)\n",
    "    for i in range(0,n):\n",
    "        Y_expand_label[i,:,:] = Y_labelling[i]\n",
    "        \n",
    "    data_expand = np.concatenate((X_training ,Y_expand_label), axis=1)\n",
    "    \n",
    "    assert (data_expand.shape[1] == w + 1)\n",
    "    \n",
    "    # 'white_image_mat' and 'white_image_label' prepare 'k' white images and their label\n",
    "    white_image_mat = np.zeros((k, w, w))\n",
    "    white_image_label = np.full((k, 1, w), None)\n",
    "    \n",
    "    white_images_big = np.concatenate((white_image_mat ,white_image_label), axis=1)\n",
    "    \n",
    "    assert (white_images_big.shape[1] == w + 1)\n",
    "    \n",
    "    data_big = np.concatenate((data_expand ,white_images_big))\n",
    "    \n",
    "    assert (data_big.shape[0] == n + k and data_big.shape[1] == w + 1 and data_big.shape[2] == w)\n",
    "    \n",
    "    np.random.shuffle(data_big)\n",
    "    assert (data_big.shape[0] == n + k and data_big.shape[1] == w + 1 and data_big.shape[2] == w)\n",
    "    \n",
    "    count = 0\n",
    "    list_of_outputs = [0., 1., 2., 3., 4., 5., 6., 7., 8., 9.]\n",
    "    for i in range(0, n + k):\n",
    "        if data_big[i][28][0] not in list_of_outputs :\n",
    "            count += 1\n",
    "\n",
    "    assert (count == k)\n",
    "    \n",
    "    Y_out = data_big[:,w][:,0]\n",
    "    X_out = np.delete(data_big, w, axis=1)\n",
    "    \n",
    "    return X_out, Y_out"
   ]
  },
  {
   "cell_type": "code",
   "execution_count": 12,
   "metadata": {
    "collapsed": true
   },
   "outputs": [],
   "source": [
    "# def multiple_img_dataset_generator(X_dataset, Y_dataset, no_of_iamges_to_combine, length_of_new_dataset) :\n",
    "#     assert (X_dataset.shape[0] == Y_dataset.shape[0])\n",
    "    \n",
    "#     n = X_dataset.shape[0]\n",
    "#     w = X_dataset.shape[1]        # Assuming image have same width and height\n",
    "#     c = no_of_iamges_to_combine\n",
    "#     k = length_of_new_dataset\n",
    "    \n",
    "#     rand_list = random_list_length_generator(0, n, c, k)\n",
    "    \n",
    "#     # To retain Zeros before the number, like 005 or 0670,\n",
    "#     # Y_train_multi is made to store objects of type 'String'\n",
    "    \n",
    "#     X_new = np.zeros((k, w, c*w))\n",
    "#     # Y_new = np.zeros((k), dtype='|S6')\n",
    "#     Y_new = np.zeros((k), dtype=np.int)\n",
    "    \n",
    "#     for i in range(k):\n",
    "#         rand_index = rand_list[i]\n",
    "\n",
    "#         images_index = []\n",
    "#         label_index = []\n",
    "#         for r in rand_index :\n",
    "#             images_index.append(X_dataset[r])\n",
    "#             label_index.append(Y_dataset[r])\n",
    "\n",
    "#         stacked_images = stack_matrices_horizontally(images_index)\n",
    "#         stacked_labels = stack_labels_horizontally(label_index)\n",
    "\n",
    "#         X_new[i] = stacked_images\n",
    "#         Y_new[i] = stacked_labels\n",
    "    \n",
    "#     print('Matrix Conversion Successful')\n",
    "    \n",
    "#     return X_new, Y_new"
   ]
  },
  {
   "cell_type": "code",
   "execution_count": 10,
   "metadata": {
    "collapsed": true
   },
   "outputs": [],
   "source": [
    "# def stack_matrices_horizontally(list_of_matrices):\n",
    "#     return np.hstack((list_of_matrices))\n",
    "\n",
    "\n",
    "# def stack_labels_horizontally(list_of_outputs):\n",
    "#     possible_list = [0,1,2,3,4,5,6,7,8,9]\n",
    "    \n",
    "#     outs = []\n",
    "#     for i in list_of_outputs :\n",
    "#         if i in possible_list :\n",
    "#             outs.append(int(i))\n",
    "    \n",
    "#     l = len(outs)\n",
    "#     stra = ''\n",
    "#     for j in outs:\n",
    "#         a = str(j)\n",
    "#         stra += a\n",
    "        \n",
    "#     if len(stra) != 0:\n",
    "#         final_out = (stra)\n",
    "#         return final_out\n",
    "#     else :\n",
    "#         return (10)"
   ]
  },
  {
   "cell_type": "code",
   "execution_count": 11,
   "metadata": {
    "collapsed": true
   },
   "outputs": [],
   "source": [
    "def random_list_length_generator(start_pt, end_pt, part_length, list_length) :\n",
    "    random_list = []\n",
    "    for i in range(list_length):\n",
    "        random_list.append(random.sample(range(start_pt, end_pt), part_length))\n",
    "        \n",
    "    return random_list"
   ]
  },
  {
   "cell_type": "code",
   "execution_count": 84,
   "metadata": {
    "collapsed": true
   },
   "outputs": [],
   "source": [
    "def stack_matrices_horizontally(list_of_matrices, width_of_image):\n",
    "    w_mat = []\n",
    "    non_w_mat = []\n",
    "    \n",
    "    white_matrix = np.zeros((width_of_image, width_of_image))\n",
    "    \n",
    "    for mat in list_of_matrices :\n",
    "        assert white_matrix.shape == mat.shape\n",
    "        if ((mat == white_matrix).all()) :\n",
    "            w_mat.append(mat)\n",
    "        else :\n",
    "            non_w_mat.append(mat)\n",
    "    \n",
    "    f_list = non_w_mat + w_mat\n",
    "        \n",
    "    return np.hstack((f_list))\n",
    "\n",
    "\n",
    "def stack_labels_horizontally(list_of_outputs, no_of_images_to_combine):\n",
    "    possible_list = [0,1,2,3,4,5,6,7,8,9]\n",
    "    \n",
    "    outs = []\n",
    "    for i in list_of_outputs :\n",
    "        if i in possible_list :\n",
    "            outs.append(int(i))\n",
    "    \n",
    "    out_l = len(outs)\n",
    "    \n",
    "    no_of_blanks = no_of_images_to_combine - out_l\n",
    "    \n",
    "    blank_list = []\n",
    "    for i in range(no_of_blanks) :\n",
    "        blank_list.append(10)\n",
    "    \n",
    "    f_list = [out_l] + outs + blank_list\n",
    "    \n",
    "    return f_list"
   ]
  },
  {
   "cell_type": "code",
   "execution_count": 65,
   "metadata": {
    "collapsed": true
   },
   "outputs": [],
   "source": [
    "def multiple_img_dataset_generator(X_dataset, Y_dataset, no_of_iamges_to_combine, length_of_new_dataset) :\n",
    "    assert (X_dataset.shape[0] == Y_dataset.shape[0])\n",
    "    \n",
    "    n = X_dataset.shape[0]\n",
    "    w = X_dataset.shape[1]        # Assuming image have same width and height\n",
    "    c = no_of_iamges_to_combine\n",
    "    k = length_of_new_dataset\n",
    "    \n",
    "    rand_list = random_list_length_generator(0, n, c, k)\n",
    "        \n",
    "    # To retain Zeros before the number, like 005 or 0670,\n",
    "    # Y_train_multi is made to store objects of type 'String'\n",
    "    \n",
    "    X_new = np.zeros((k, w, c*w))\n",
    "    # Y_new = np.zeros((k), dtype='|S6')\n",
    "    Y_new = np.zeros((k, c+1), dtype=np.int)\n",
    "    \n",
    "    for i in range(k):\n",
    "        # Get 5 random indexes\n",
    "        rand_index = rand_list[i]\n",
    "\n",
    "        images_index = []\n",
    "        label_index = []\n",
    "        \n",
    "        for r in rand_index :\n",
    "            images_index.append(X_dataset[r])\n",
    "            label_index.append(Y_dataset[r])\n",
    "\n",
    "        stacked_images = stack_matrices_horizontally(images_index, w)\n",
    "        stacked_labels = stack_labels_horizontally(label_index, c)\n",
    "\n",
    "        X_new[i] = stacked_images\n",
    "        Y_new[i] = stacked_labels\n",
    "    \n",
    "    print('Matrix Conversion Successful')\n",
    "    \n",
    "    return X_new, Y_new"
   ]
  },
  {
   "cell_type": "code",
   "execution_count": 67,
   "metadata": {
    "collapsed": true
   },
   "outputs": [],
   "source": [
    "def plot_img(image, title):\n",
    "    plt.imshow(image)\n",
    "    plt.title(title)\n",
    "    plt.show()"
   ]
  },
  {
   "cell_type": "code",
   "execution_count": 113,
   "metadata": {
    "collapsed": false
   },
   "outputs": [
    {
     "name": "stdout",
     "output_type": "stream",
     "text": [
      "w :  28  n :  10000  k :  2500\n"
     ]
    }
   ],
   "source": [
    "X_test_new, Y_test_new = randomize_inputs(test_images, test_label, 2500)"
   ]
  },
  {
   "cell_type": "code",
   "execution_count": 114,
   "metadata": {
    "collapsed": false
   },
   "outputs": [
    {
     "name": "stdout",
     "output_type": "stream",
     "text": [
      "Matrix Conversion Successful\n"
     ]
    }
   ],
   "source": [
    "X_test_multi, Y_test_multi = multiple_img_dataset_generator(X_test_new, Y_test_new, 5, 10000)"
   ]
  },
  {
   "cell_type": "code",
   "execution_count": 115,
   "metadata": {
    "collapsed": false
   },
   "outputs": [
    {
     "data": {
      "image/png": "[encoded data removed]",
      "text/plain": [
       "<matplotlib.figure.Figure at 0x1149c7590>"
      ]
     },
     "metadata": {},
     "output_type": "display_data"
    }
   ],
   "source": [
    "plot_img(X_test_multi[120], Y_test_multi[120])"
   ]
  },
  {
   "cell_type": "code",
   "execution_count": 117,
   "metadata": {
    "collapsed": false
   },
   "outputs": [
    {
     "name": "stdout",
     "output_type": "stream",
     "text": [
      "w :  28  n :  60000  k :  20000\n",
      "Matrix Conversion Successful\n"
     ]
    }
   ],
   "source": [
    "X_train_new, Y_train_new = randomize_inputs(train_images, train_label, 20000)\n",
    "X_train_multi, Y_train_multi = multiple_img_dataset_generator(X_train_new, Y_train_new, 5, 80000)"
   ]
  },
  {
   "cell_type": "code",
   "execution_count": 118,
   "metadata": {
    "collapsed": false
   },
   "outputs": [
    {
     "name": "stdout",
     "output_type": "stream",
     "text": [
      "(80000, 28, 140) (80000, 6)\n",
      "(10000, 28, 140) (10000, 6)\n"
     ]
    }
   ],
   "source": [
    "print (X_train_multi.shape, Y_train_multi.shape)\n",
    "print (X_test_multi.shape, Y_test_multi.shape)"
   ]
  },
  {
   "cell_type": "code",
   "execution_count": 119,
   "metadata": {
    "collapsed": false
   },
   "outputs": [
    {
     "data": {
      "image/png": "[encoded data removed]",
      "text/plain": [
       "<matplotlib.figure.Figure at 0x11351bc90>"
      ]
     },
     "metadata": {},
     "output_type": "display_data"
    }
   ],
   "source": [
    "plot_img(X_train_multi[105], Y_train_multi[105])"
   ]
  },
  {
   "cell_type": "code",
   "execution_count": 120,
   "metadata": {
    "collapsed": true
   },
   "outputs": [],
   "source": [
    "X_train_multi = X_train_multi[:,:,:,np.newaxis]\n",
    "X_test_multi = X_test_multi[:,:,:,np.newaxis]"
   ]
  },
  {
   "cell_type": "code",
   "execution_count": 121,
   "metadata": {
    "collapsed": false
   },
   "outputs": [
    {
     "name": "stdout",
     "output_type": "stream",
     "text": [
      "(80000, 28, 140, 1) (80000, 6)\n",
      "(10000, 28, 140, 1) (10000, 6)\n"
     ]
    }
   ],
   "source": [
    "print (X_train_multi.shape, Y_train_multi.shape)\n",
    "print (X_test_multi.shape, Y_test_multi.shape)"
   ]
  },
  {
   "cell_type": "code",
   "execution_count": null,
   "metadata": {
    "collapsed": true
   },
   "outputs": [],
   "source": [
    "train_multi = {}\n",
    "test_multi = {}\n",
    "\n",
    "train_multi['X'] = X_train_multi\n",
    "train_multi['y'] = Y_train_multi\n",
    "\n",
    "test_multi['X'] = X_test_multi\n",
    "test_multi['y'] = Y_test_multi"
   ]
  },
  {
   "cell_type": "code",
   "execution_count": null,
   "metadata": {
    "collapsed": false
   },
   "outputs": [],
   "source": [
    "scipy.io.savemat('mnist_multi_train_28x140.mat', train_multi)\n",
    "scipy.io.savemat('mnist_multi_test_28x140.mat', test_multi)"
   ]
  },
  {
   "cell_type": "code",
   "execution_count": null,
   "metadata": {
    "collapsed": true
   },
   "outputs": [],
   "source": []
  }
 ],
 "metadata": {
  "kernelspec": {
   "display_name": "Python [default]",
   "language": "python",
   "name": "python2"
  },
  "language_info": {
   "codemirror_mode": {
    "name": "ipython",
    "version": 2
   },
   "file_extension": ".py",
   "mimetype": "text/x-python",
   "name": "python",
   "nbconvert_exporter": "python",
   "pygments_lexer": "ipython2",
   "version": "2.7.12"
  }
 },
 "nbformat": 4,
 "nbformat_minor": 1
}
