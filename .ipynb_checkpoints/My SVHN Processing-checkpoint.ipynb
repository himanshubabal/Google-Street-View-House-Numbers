{
 "cells": [
  {
   "cell_type": "code",
   "execution_count": 16,
   "metadata": {
    "collapsed": false
   },
   "outputs": [],
   "source": [
    "from __future__ import print_function\n",
    "import matplotlib.pyplot as plt\n",
    "import numpy as np\n",
    "import os\n",
    "import sys\n",
    "import tarfile\n",
    "from IPython.display import display, Image\n",
    "from PIL import Image\n",
    "from scipy import ndimage\n",
    "from six.moves.urllib.request import urlretrieve\n",
    "from six.moves import cPickle as pickle\n",
    "import scipy.ndimage\n",
    "import scipy.misc\n",
    "%matplotlib inline"
   ]
  },
  {
   "cell_type": "code",
   "execution_count": 34,
   "metadata": {
    "collapsed": true
   },
   "outputs": [],
   "source": [
    "dataset_location = 'datasets/svhn_raw/'"
   ]
  },
  {
   "cell_type": "code",
   "execution_count": 35,
   "metadata": {
    "collapsed": true
   },
   "outputs": [],
   "source": [
    "import h5py\n",
    "\n",
    "# The DigitStructFile is just a wrapper around the h5py data.  It basically references \n",
    "#    inf:              The input h5 matlab file\n",
    "#    digitStructName   The h5 ref to all the file names\n",
    "#    digitStructBbox   The h5 ref to all struc data\n",
    "class DigitStructFile:\n",
    "    def __init__(self, inf):\n",
    "        self.inf = h5py.File(inf, 'r')\n",
    "        self.digitStructName = self.inf['digitStruct']['name']\n",
    "        self.digitStructBbox = self.inf['digitStruct']['bbox']\n",
    "\n",
    "# getName returns the 'name' string for for the n(th) digitStruct. \n",
    "    def getName(self,n):\n",
    "        return ''.join([chr(c[0]) for c in self.inf[self.digitStructName[n][0]].value])\n",
    "\n",
    "# bboxHelper handles the coding difference when there is exactly one bbox or an array of bbox. \n",
    "    def bboxHelper(self,attr):\n",
    "        if (len(attr) > 1):\n",
    "            attr = [self.inf[attr.value[j].item()].value[0][0] for j in range(len(attr))]\n",
    "        else:\n",
    "            attr = [attr.value[0][0]]\n",
    "        return attr\n",
    "\n",
    "# getBbox returns a dict of data for the n(th) bbox. \n",
    "    def getBbox(self,n):\n",
    "        bbox = {}\n",
    "        bb = self.digitStructBbox[n].item()\n",
    "        bbox['height'] = self.bboxHelper(self.inf[bb][\"height\"])\n",
    "        bbox['label'] = self.bboxHelper(self.inf[bb][\"label\"])\n",
    "        bbox['left'] = self.bboxHelper(self.inf[bb][\"left\"])\n",
    "        bbox['top'] = self.bboxHelper(self.inf[bb][\"top\"])\n",
    "        bbox['width'] = self.bboxHelper(self.inf[bb][\"width\"])\n",
    "        return bbox\n",
    "\n",
    "    def getDigitStructure(self,n):\n",
    "        s = self.getBbox(n)\n",
    "        s['name']=self.getName(n)\n",
    "        return s\n",
    "\n",
    "# getAllDigitStructure returns all the digitStruct from the input file.     \n",
    "    def getAllDigitStructure(self):\n",
    "        return [self.getDigitStructure(i) for i in range(len(self.digitStructName))]\n",
    "\n",
    "# Return a restructured version of the dataset (one structure by boxed digit).\n",
    "#\n",
    "#   Return a list of such dicts :\n",
    "#      'filename' : filename of the samples\n",
    "#      'boxes' : list of such dicts (one by digit) :\n",
    "#          'label' : 1 to 9 corresponding digits. 10 for digit '0' in image.\n",
    "#          'left', 'top' : position of bounding box\n",
    "#          'width', 'height' : dimension of bounding box\n",
    "#\n",
    "# Note: We may turn this to a generator, if memory issues arise.\n",
    "    def getAllDigitStructure_ByDigit(self):\n",
    "        pictDat = self.getAllDigitStructure()\n",
    "        result = []\n",
    "        structCnt = 1\n",
    "        for i in range(len(pictDat)):\n",
    "            item = { 'filename' : pictDat[i][\"name\"] }\n",
    "            figures = []\n",
    "            for j in range(len(pictDat[i]['height'])):\n",
    "               figure = {}\n",
    "               figure['height'] = pictDat[i]['height'][j]\n",
    "               figure['label']  = pictDat[i]['label'][j]\n",
    "               figure['left']   = pictDat[i]['left'][j]\n",
    "               figure['top']    = pictDat[i]['top'][j]\n",
    "               figure['width']  = pictDat[i]['width'][j]\n",
    "               figures.append(figure)\n",
    "            structCnt = structCnt + 1\n",
    "            item['boxes'] = figures\n",
    "            result.append(item)\n",
    "        return result"
   ]
  },
  {
   "cell_type": "code",
   "execution_count": 23,
   "metadata": {
    "collapsed": false
   },
   "outputs": [],
   "source": [
    "fin = os.path.join(dataset_location + 'test', 'digitStruct.mat')\n",
    "dsf = DigitStructFile(fin)\n",
    "test_data = dsf.getAllDigitStructure_ByDigit()"
   ]
  },
  {
   "cell_type": "code",
   "execution_count": 24,
   "metadata": {
    "collapsed": false
   },
   "outputs": [
    {
     "data": {
      "text/plain": [
       "13068"
      ]
     },
     "execution_count": 24,
     "metadata": {},
     "output_type": "execute_result"
    }
   ],
   "source": [
    "len(test_data)"
   ]
  },
  {
   "cell_type": "code",
   "execution_count": 25,
   "metadata": {
    "collapsed": true
   },
   "outputs": [],
   "source": [
    "fin = os.path.join(dataset_location + 'train', 'digitStruct.mat')\n",
    "dsf = DigitStructFile(fin)\n",
    "train_data = dsf.getAllDigitStructure_ByDigit()"
   ]
  },
  {
   "cell_type": "code",
   "execution_count": 26,
   "metadata": {
    "collapsed": false
   },
   "outputs": [
    {
     "data": {
      "text/plain": [
       "33402"
      ]
     },
     "execution_count": 26,
     "metadata": {},
     "output_type": "execute_result"
    }
   ],
   "source": [
    "len(train_data)"
   ]
  },
  {
   "cell_type": "code",
   "execution_count": 27,
   "metadata": {
    "collapsed": true
   },
   "outputs": [],
   "source": [
    "fin = os.path.join(dataset_location + 'extra', 'digitStruct.mat')\n",
    "dsf = DigitStructFile(fin)\n",
    "extra_data = dsf.getAllDigitStructure_ByDigit()"
   ]
  },
  {
   "cell_type": "code",
   "execution_count": 28,
   "metadata": {
    "collapsed": false
   },
   "outputs": [
    {
     "data": {
      "text/plain": [
       "202353"
      ]
     },
     "execution_count": 28,
     "metadata": {},
     "output_type": "execute_result"
    }
   ],
   "source": [
    "len(extra_data)"
   ]
  },
  {
   "cell_type": "code",
   "execution_count": 36,
   "metadata": {
    "collapsed": true
   },
   "outputs": [],
   "source": [
    "def load_image(file_name, folder_name) :\n",
    "    image_name = dataset_location + folder_name + '/' + file_name\n",
    "    img = Image.open(image_name).convert('L')\n",
    "    img.load()\n",
    "    data = np.asarray(img, dtype=\"int32\")\n",
    "    return data"
   ]
  },
  {
   "cell_type": "code",
   "execution_count": 37,
   "metadata": {
    "collapsed": true
   },
   "outputs": [],
   "source": [
    "def plot_img(image):\n",
    "    plt.imshow(image)\n",
    "    plt.show()"
   ]
  },
  {
   "cell_type": "code",
   "execution_count": 31,
   "metadata": {
    "collapsed": false
   },
   "outputs": [
    {
     "name": "stdout",
     "output_type": "stream",
     "text": [
      "Compressed pickle size: 74750515\n"
     ]
    }
   ],
   "source": [
    "pickle_file = 'datasets/pickles/SVHN_new_data_struct.pickle'\n",
    "\n",
    "try:\n",
    "  f = open(pickle_file, 'wb')\n",
    "  save = {\n",
    "    'train_data': train_data,\n",
    "    'extra_data': extra_data,\n",
    "    'test_data': test_data,\n",
    "    }\n",
    "  pickle.dump(save, f, pickle.HIGHEST_PROTOCOL)\n",
    "  f.close()\n",
    "except Exception as e:\n",
    "  print('Unable to save data to', pickle_file, ':', e)\n",
    "  raise\n",
    "    \n",
    "statinfo = os.stat(pickle_file)\n",
    "print('Compressed pickle size:', statinfo.st_size)"
   ]
  },
  {
   "cell_type": "code",
   "execution_count": 32,
   "metadata": {
    "collapsed": false
   },
   "outputs": [
    {
     "name": "stdout",
     "output_type": "stream",
     "text": [
      "33402\n",
      "13068\n",
      "202353\n"
     ]
    }
   ],
   "source": [
    "pickle_file = 'datasets/pickles/SVHN_new_data_struct.pickle'\n",
    "\n",
    "with open(pickle_file, 'rb') as f:\n",
    "    save = pickle.load(f)\n",
    "    test_data = save['test_data']\n",
    "    train_data = save['train_data']\n",
    "    extra_data = save['extra_data']\n",
    "    del save\n",
    "    print(len(train_data))\n",
    "    print(len(test_data))\n",
    "    print(len(extra_data))"
   ]
  },
  {
   "cell_type": "code",
   "execution_count": 88,
   "metadata": {
    "collapsed": false
   },
   "outputs": [
    {
     "name": "stdout",
     "output_type": "stream",
     "text": [
      "0.0\n",
      "11.47842056932966\n",
      "22.95684113865932\n",
      "34.43526170798898\n",
      "45.91368227731864\n",
      "57.3921028466483\n",
      "68.87052341597796\n",
      "80.34894398530761\n",
      "91.82736455463728\n"
     ]
    }
   ],
   "source": [
    "test_images = np.ndarray([len(test_data), 32, 96, 1], dtype='int32')\n",
    "test_labels = np.ndarray([len(test_data), 6], dtype='int32')\n",
    "folder_name = 'test'\n",
    "\n",
    "l = len(test_data)\n",
    "\n",
    "for i in range(l) :\n",
    "    image = test_data[i]\n",
    "    im = load_image(image['filename'], folder_name)\n",
    "    # Resizing Image to be of 32x96x3 dimensions\n",
    "    im = scipy.misc.imresize(im, (32, 96))\n",
    "    \n",
    "    # Finding No of Digits in given image\n",
    "    no_of_digits = len(image['boxes'])\n",
    "    # If no of digits is > 5\n",
    "    # Leave this example out, as we don't need it\n",
    "    # Continue to next Iteration\n",
    "    if no_of_digits > 5:\n",
    "        print('more then 5 digits', image['boxes'])\n",
    "        continue\n",
    "\n",
    "    # Numpy Array 'dig' will contain digits in the format :\n",
    "    # [No_of_digits, _, _, _, _, _]\n",
    "    dig = np.array([])\n",
    "    dig = np.append(dig, no_of_digits)\n",
    "    \n",
    "    for j in range(no_of_digits) :\n",
    "        digit = image['boxes'][j]['label']\n",
    "        dig = np.append(dig, digit)\n",
    "\n",
    "    # Appending '0' to represent Empty Space\n",
    "    zeros = 5 - no_of_digits\n",
    "    for z in range(zeros) :\n",
    "        dig = np.append(dig, 0)\n",
    "        \n",
    "\n",
    "    im = im[:,:,np.newaxis]\n",
    "    test_images[i,:,:,:] = im[:,:,:]\n",
    "    test_labels[i,:] = dig\n",
    "    \n",
    "    if i % 1500 == 0:\n",
    "        print((i/l)*100)\n",
    "        "
   ]
  },
  {
   "cell_type": "code",
   "execution_count": 54,
   "metadata": {
    "collapsed": false,
    "scrolled": true
   },
   "outputs": [
    {
     "data": {
      "text/plain": [
       "(13068, 32, 96, 1)"
      ]
     },
     "execution_count": 54,
     "metadata": {},
     "output_type": "execute_result"
    }
   ],
   "source": [
    "test_images.shape"
   ]
  },
  {
   "cell_type": "code",
   "execution_count": 55,
   "metadata": {
    "collapsed": false
   },
   "outputs": [
    {
     "data": {
      "text/plain": [
       "(13068, 6)"
      ]
     },
     "execution_count": 55,
     "metadata": {},
     "output_type": "execute_result"
    }
   ],
   "source": [
    "test_labels.shape"
   ]
  },
  {
   "cell_type": "code",
   "execution_count": 56,
   "metadata": {
    "collapsed": false
   },
   "outputs": [
    {
     "name": "stdout",
     "output_type": "stream",
     "text": [
      "Compressed pickle size: 160893459\n"
     ]
    }
   ],
   "source": [
    "pickle_file = 'datasets/pickles/SVHN_new_inter_test.pickle'\n",
    "\n",
    "try:\n",
    "  f = open(pickle_file, 'wb')\n",
    "  save = {\n",
    "    'test_images': test_images,\n",
    "    'test_labels': test_labels,\n",
    "    }\n",
    "  pickle.dump(save, f, pickle.HIGHEST_PROTOCOL)\n",
    "  f.close()\n",
    "except Exception as e:\n",
    "  print('Unable to save data to', pickle_file, ':', e)\n",
    "  raise\n",
    "    \n",
    "statinfo = os.stat(pickle_file)\n",
    "print('Compressed pickle size:', statinfo.st_size)"
   ]
  },
  {
   "cell_type": "code",
   "execution_count": 57,
   "metadata": {
    "collapsed": true
   },
   "outputs": [
    {
     "name": "stdout",
     "output_type": "stream",
     "text": [
      "progress :  0.0 %\n",
      "progress :  14.969163523142326 %\n",
      "progress :  29.938327046284652 %\n",
      "progress :  44.907490569426976 %\n",
      "progress :  59.876654092569304 %\n",
      "progress :  74.84581761571162 %\n",
      "progress :  89.81498113885395 %\n",
      "Cases Containing More then 5 Digits :  1\n"
     ]
    }
   ],
   "source": [
    "l = len(train_data)\n",
    "more_then_5_counter = 0\n",
    "\n",
    "train_images = np.ndarray([l, 32, 96, 1], dtype='int32')\n",
    "train_labels = np.ndarray([l, 6], dtype='int32')\n",
    "folder_name = 'train'\n",
    "\n",
    "\n",
    "for i in range(l) :\n",
    "    image = train_data[i]\n",
    "    im = load_image(image['filename'], folder_name)\n",
    "    im = scipy.misc.imresize(im, (32, 96))\n",
    "    \n",
    "    no_of_digits = len(image['boxes'])\n",
    "    if no_of_digits > 5:\n",
    "        more_then_5_counter += 1\n",
    "        continue\n",
    "\n",
    "    dig = np.array([])\n",
    "    dig = np.append(dig, no_of_digits)\n",
    "\n",
    "    for j in range(no_of_digits) :\n",
    "        digit = image['boxes'][j]['label']\n",
    "        dig = np.append(dig, digit)\n",
    "\n",
    "    zeros = 5 - no_of_digits\n",
    "    for z in range(zeros) :\n",
    "        dig = np.append(dig, 0)\n",
    "        \n",
    "    im = im[:,:,np.newaxis]\n",
    "    train_images[i,:,:,:] = im[:,:,:]\n",
    "    train_labels[i,:] = dig\n",
    "    \n",
    "    \n",
    "    if i % 5000 == 0:\n",
    "        print('progress : ', (i/l)*100, '%')\n",
    "        \n",
    "print('Cases Containing More then 5 Digits : ', more_then_5_counter)"
   ]
  },
  {
   "cell_type": "code",
   "execution_count": 77,
   "metadata": {
    "collapsed": false
   },
   "outputs": [
    {
     "data": {
      "text/plain": [
       "(33401, 32, 96, 1)"
      ]
     },
     "execution_count": 77,
     "metadata": {},
     "output_type": "execute_result"
    }
   ],
   "source": [
    "train_images.shape"
   ]
  },
  {
   "cell_type": "code",
   "execution_count": 78,
   "metadata": {
    "collapsed": false
   },
   "outputs": [
    {
     "data": {
      "text/plain": [
       "(33401, 6)"
      ]
     },
     "execution_count": 78,
     "metadata": {},
     "output_type": "execute_result"
    }
   ],
   "source": [
    "train_labels.shape"
   ]
  },
  {
   "cell_type": "code",
   "execution_count": 81,
   "metadata": {
    "collapsed": false
   },
   "outputs": [
    {
     "name": "stdout",
     "output_type": "stream",
     "text": [
      "Compressed pickle size: 104211403\n"
     ]
    }
   ],
   "source": [
    "pickle_file = 'datasets/pickles/SVHN_new_inter_train.pickle'\n",
    "\n",
    "try:\n",
    "  f = open(pickle_file, 'wb')\n",
    "  save = {\n",
    "    'train_images': train_images,\n",
    "    'train_labels': train_labels,\n",
    "    }\n",
    "  pickle.dump(save, f, pickle.HIGHEST_PROTOCOL)\n",
    "  f.close()\n",
    "except Exception as e:\n",
    "  print('Unable to save data to', pickle_file, ':', e)\n",
    "  raise\n",
    "    \n",
    "statinfo = os.stat(pickle_file)\n",
    "print('Compressed pickle size:', statinfo.st_size)"
   ]
  },
  {
   "cell_type": "code",
   "execution_count": 58,
   "metadata": {
    "collapsed": true
   },
   "outputs": [
    {
     "name": "stdout",
     "output_type": "stream",
     "text": [
      "progress :  0.0 %\n",
      "progress :  12.354647571323381 %\n",
      "progress :  24.709295142646763 %\n",
      "progress :  37.06394271397014 %\n",
      "progress :  49.418590285293526 %\n",
      "progress :  61.7732378566169 %\n",
      "progress :  74.12788542794029 %\n",
      "progress :  86.48253299926367 %\n",
      "progress :  98.83718057058705 %\n",
      "Cases Containing More then 5 Digits :  0\n"
     ]
    }
   ],
   "source": [
    "l = len(extra_data)\n",
    "more_then_5_counter = 0\n",
    "\n",
    "extra_images = np.ndarray([l, 32, 96, 1], dtype='int32')\n",
    "extra_labels = np.ndarray([l, 6], dtype='int32')\n",
    "folder_name = 'extra'\n",
    "\n",
    "for i in range(l) :\n",
    "    image = extra_data[i]\n",
    "    im = load_image(image['filename'], folder_name)\n",
    "    im = scipy.misc.imresize(im, (32, 96))\n",
    "    \n",
    "    no_of_digits = len(image['boxes'])\n",
    "    if no_of_digits > 5:\n",
    "        more_then_5_counter += 1\n",
    "        continue\n",
    "\n",
    "    dig = np.array([])\n",
    "    dig = np.append(dig, no_of_digits)\n",
    "\n",
    "    for j in range(no_of_digits) :\n",
    "        digit = image['boxes'][j]['label']\n",
    "        dig = np.append(dig, digit)\n",
    "\n",
    "    zeros = 5 - no_of_digits\n",
    "    for z in range(zeros) :\n",
    "        dig = np.append(dig, 0)\n",
    "        \n",
    "        \n",
    "    im = im[:,:,np.newaxis]\n",
    "    extra_images[i,:,:,:] = im[:,:,:]\n",
    "    extra_labels[i,:] = dig\n",
    "    \n",
    "    if i % 25000 == 0:\n",
    "        print('progress : ', (i/l)*100, '%')\n",
    "        \n",
    "print('Cases Containing More then 5 Digits : ', more_then_5_counter)"
   ]
  },
  {
   "cell_type": "code",
   "execution_count": 59,
   "metadata": {
    "collapsed": false
   },
   "outputs": [
    {
     "data": {
      "text/plain": [
       "(202353, 32, 96, 1)"
      ]
     },
     "execution_count": 59,
     "metadata": {},
     "output_type": "execute_result"
    }
   ],
   "source": [
    "extra_images.shape"
   ]
  },
  {
   "cell_type": "code",
   "execution_count": 60,
   "metadata": {
    "collapsed": false
   },
   "outputs": [
    {
     "data": {
      "text/plain": [
       "(202353, 6)"
      ]
     },
     "execution_count": 60,
     "metadata": {},
     "output_type": "execute_result"
    }
   ],
   "source": [
    "extra_labels.shape"
   ]
  },
  {
   "cell_type": "code",
   "execution_count": 61,
   "metadata": {
    "collapsed": false
   },
   "outputs": [
    {
     "name": "stdout",
     "output_type": "stream",
     "text": [
      "Compressed pickle size: 2491370385\n"
     ]
    }
   ],
   "source": [
    "pickle_file = 'datasets/pickles/SVHN_new_inter_extra.pickle'\n",
    "\n",
    "try:\n",
    "  f = open(pickle_file, 'wb')\n",
    "  save = {\n",
    "    'extra_images': extra_images,\n",
    "    'extra_labels': extra_labels,\n",
    "    }\n",
    "  pickle.dump(save, f, pickle.HIGHEST_PROTOCOL)\n",
    "  f.close()\n",
    "except Exception as e:\n",
    "  print('Unable to save data to', pickle_file, ':', e)\n",
    "  raise\n",
    "    \n",
    "statinfo = os.stat(pickle_file)\n",
    "print('Compressed pickle size:', statinfo.st_size)"
   ]
  },
  {
   "cell_type": "code",
   "execution_count": null,
   "metadata": {
    "collapsed": true
   },
   "outputs": [],
   "source": []
  },
  {
   "cell_type": "code",
   "execution_count": 72,
   "metadata": {
    "collapsed": false
   },
   "outputs": [
    {
     "name": "stdout",
     "output_type": "stream",
     "text": [
      "Compressed pickle size: 3063509273\n"
     ]
    }
   ],
   "source": [
    "pickle_file = 'datasets/pickles/SVHN_new_inter_all.pickle'\n",
    "\n",
    "try:\n",
    "  f = open(pickle_file, 'wb')\n",
    "  save = {\n",
    "    'train_images': train_images,\n",
    "    'train_labels': train_labels,\n",
    "    'extra_images': extra_images,\n",
    "    'extra_labels': extra_labels,\n",
    "    'test_images': test_images,\n",
    "    'test_labels': test_labels,\n",
    "    }\n",
    "  pickle.dump(save, f, pickle.HIGHEST_PROTOCOL)\n",
    "  f.close()\n",
    "except Exception as e:\n",
    "  print('Unable to save data to', pickle_file, ':', e)\n",
    "  raise\n",
    "    \n",
    "statinfo = os.stat(pickle_file)\n",
    "print('Compressed pickle size:', statinfo.st_size)"
   ]
  },
  {
   "cell_type": "code",
   "execution_count": 80,
   "metadata": {
    "collapsed": false
   },
   "outputs": [
    {
     "name": "stdout",
     "output_type": "stream",
     "text": [
      "SVHN Datasets ready in SVHN_multi_box.hdf5\n"
     ]
    }
   ],
   "source": [
    "hdf_file = 'datasets/pickles/SVHN_new_inter_all.hdf5'\n",
    "\n",
    "hdf = h5py.File(hdf_file, 'w')\n",
    "\n",
    "with hdf as hf:\n",
    "    hf.create_dataset(\"train_images\",  data=train_images)\n",
    "    hf.create_dataset(\"train_labels\",  data=train_labels)\n",
    "    hf.create_dataset(\"extra_images\",  data=extra_images)\n",
    "    hf.create_dataset(\"extra_labels\",  data=extra_labels)\n",
    "    hf.create_dataset(\"test_images\",  data=test_images)\n",
    "    hf.create_dataset(\"test_labels\",  data=test_labels)\n",
    "\n",
    "print('SVHN Datasets ready in SVHN_new_inter_all.hdf5')"
   ]
  },
  {
   "cell_type": "code",
   "execution_count": null,
   "metadata": {
    "collapsed": true
   },
   "outputs": [],
   "source": []
  },
  {
   "cell_type": "code",
   "execution_count": 68,
   "metadata": {
    "collapsed": false
   },
   "outputs": [],
   "source": [
    "d = np.copy(train_images[21])\n",
    "d = d.reshape(d.shape[:2])"
   ]
  },
  {
   "cell_type": "code",
   "execution_count": 69,
   "metadata": {
    "collapsed": false
   },
   "outputs": [
    {
     "data": {
      "text/plain": [
       "(32, 96)"
      ]
     },
     "execution_count": 69,
     "metadata": {},
     "output_type": "execute_result"
    }
   ],
   "source": [
    "d.shape"
   ]
  },
  {
   "cell_type": "code",
   "execution_count": 71,
   "metadata": {
    "collapsed": false
   },
   "outputs": [
    {
     "data": {
      "image/png": "[encoded data removed]",
      "text/plain": [
       "<matplotlib.figure.Figure at 0x7fdfc6b0e860>"
      ]
     },
     "metadata": {},
     "output_type": "display_data"
    },
    {
     "name": "stdout",
     "output_type": "stream",
     "text": [
      "[3 5 1 5 0 0]\n"
     ]
    }
   ],
   "source": [
    "plot_img(d)\n",
    "print(train_labels[21])"
   ]
  },
  {
   "cell_type": "code",
   "execution_count": null,
   "metadata": {
    "collapsed": true
   },
   "outputs": [],
   "source": []
  },
  {
   "cell_type": "code",
   "execution_count": 77,
   "metadata": {
    "collapsed": false
   },
   "outputs": [
    {
     "data": {
      "text/plain": [
       "235755"
      ]
     },
     "execution_count": 77,
     "metadata": {},
     "output_type": "execute_result"
    }
   ],
   "source": [
    "len(extra_images) + len(train_images)"
   ]
  },
  {
   "cell_type": "code",
   "execution_count": 82,
   "metadata": {
    "collapsed": false
   },
   "outputs": [
    {
     "data": {
      "text/plain": [
       "230255"
      ]
     },
     "execution_count": 82,
     "metadata": {},
     "output_type": "execute_result"
    }
   ],
   "source": [
    "235755 - 5500"
   ]
  },
  {
   "cell_type": "code",
   "execution_count": 100,
   "metadata": {
    "collapsed": true
   },
   "outputs": [],
   "source": [
    "tt = np.copy(test_images[:5])\n",
    "tt_l = np.copy(test_labels[:5])"
   ]
  },
  {
   "cell_type": "code",
   "execution_count": 101,
   "metadata": {
    "collapsed": false
   },
   "outputs": [
    {
     "data": {
      "text/plain": [
       "array([162,  25,  76, 140,  18], dtype=int32)"
      ]
     },
     "execution_count": 101,
     "metadata": {},
     "output_type": "execute_result"
    }
   ],
   "source": [
    "tt[:,0,0,0]"
   ]
  },
  {
   "cell_type": "code",
   "execution_count": 107,
   "metadata": {
    "collapsed": false
   },
   "outputs": [
    {
     "name": "stdout",
     "output_type": "stream",
     "text": [
      "5\n"
     ]
    }
   ],
   "source": [
    "c = list(zip(tt, tt_l))\n",
    "\n",
    "np.random.shuffle(c)\n",
    "\n",
    "a, b = zip(*c)\n",
    "\n",
    "print (len(a))"
   ]
  },
  {
   "cell_type": "code",
   "execution_count": 119,
   "metadata": {
    "collapsed": true
   },
   "outputs": [],
   "source": [
    "test_shuffle = list(zip(test_images, test_labels))\n",
    "np.random.shuffle(c)\n",
    "test_images, test_labels = zip(*test_shuffle)\n",
    "test_images, test_labels = np.asarray(test_images), np.asarray(test_labels)"
   ]
  },
  {
   "cell_type": "code",
   "execution_count": 120,
   "metadata": {
    "collapsed": false
   },
   "outputs": [
    {
     "data": {
      "text/plain": [
       "(13068, 32, 96, 1)"
      ]
     },
     "execution_count": 120,
     "metadata": {},
     "output_type": "execute_result"
    }
   ],
   "source": [
    "test_images.shape"
   ]
  },
  {
   "cell_type": "code",
   "execution_count": null,
   "metadata": {
    "collapsed": true
   },
   "outputs": [],
   "source": []
  },
  {
   "cell_type": "code",
   "execution_count": null,
   "metadata": {
    "collapsed": true
   },
   "outputs": [],
   "source": []
  },
  {
   "cell_type": "code",
   "execution_count": null,
   "metadata": {
    "collapsed": true
   },
   "outputs": [],
   "source": []
  },
  {
   "cell_type": "code",
   "execution_count": 110,
   "metadata": {
    "collapsed": false
   },
   "outputs": [],
   "source": [
    "a = np.asarray(a)\n",
    "b = np.asarray(b)"
   ]
  },
  {
   "cell_type": "code",
   "execution_count": 112,
   "metadata": {
    "collapsed": false
   },
   "outputs": [
    {
     "data": {
      "text/plain": [
       "array([ 18, 140, 162,  76,  25], dtype=int32)"
      ]
     },
     "execution_count": 112,
     "metadata": {},
     "output_type": "execute_result"
    }
   ],
   "source": [
    "a[:,0,0,0]"
   ]
  },
  {
   "cell_type": "code",
   "execution_count": 115,
   "metadata": {
    "collapsed": false
   },
   "outputs": [
    {
     "data": {
      "text/plain": [
       "(array([1, 9, 0, 0, 0, 0], dtype=int32),\n",
       " array([1, 1, 0, 0, 0, 0], dtype=int32),\n",
       " array([1, 5, 0, 0, 0, 0], dtype=int32),\n",
       " array([1, 6, 0, 0, 0, 0], dtype=int32),\n",
       " array([ 3,  2,  1, 10,  0,  0], dtype=int32))"
      ]
     },
     "execution_count": 115,
     "metadata": {},
     "output_type": "execute_result"
    }
   ],
   "source": [
    "b"
   ]
  },
  {
   "cell_type": "code",
   "execution_count": 118,
   "metadata": {
    "collapsed": false
   },
   "outputs": [
    {
     "data": {
      "image/png": "[encoded data removed]",
      "text/plain": [
       "<matplotlib.figure.Figure at 0x7fdfd0c4fac8>"
      ]
     },
     "metadata": {},
     "output_type": "display_data"
    },
    {
     "name": "stdout",
     "output_type": "stream",
     "text": [
      "[ 3  2  1 10  0  0]\n"
     ]
    }
   ],
   "source": [
    "d = np.copy(a[4])\n",
    "d = d.reshape(d.shape[:2])\n",
    "plot_img(d)\n",
    "print(b[4])"
   ]
  },
  {
   "cell_type": "code",
   "execution_count": null,
   "metadata": {
    "collapsed": true
   },
   "outputs": [],
   "source": []
  },
  {
   "cell_type": "code",
   "execution_count": 89,
   "metadata": {
    "collapsed": false
   },
   "outputs": [
    {
     "data": {
      "image/png": "[encoded data removed]",
      "text/plain": [
       "<matplotlib.figure.Figure at 0x7fdfc5c2f630>"
      ]
     },
     "metadata": {},
     "output_type": "display_data"
    },
    {
     "name": "stdout",
     "output_type": "stream",
     "text": [
      "[2 1 6 0 0 0]\n"
     ]
    }
   ],
   "source": [
    "d = np.copy(test_images[21])\n",
    "d = d.reshape(d.shape[:2])\n",
    "plot_img(d)\n",
    "print(test_labels[21])"
   ]
  },
  {
   "cell_type": "code",
   "execution_count": 102,
   "metadata": {
    "collapsed": false
   },
   "outputs": [
    {
     "ename": "IndexError",
     "evalue": "index 162 is out of bounds for axis 0 with size 5",
     "output_type": "error",
     "traceback": [
      "\u001b[0;31m---------------------------------------------------------------------------\u001b[0m",
      "\u001b[0;31mIndexError\u001b[0m                                Traceback (most recent call last)",
      "\u001b[0;32m<ipython-input-102-e9c571557bbb>\u001b[0m in \u001b[0;36m<module>\u001b[0;34m()\u001b[0m\n\u001b[0;32m----> 1\u001b[0;31m \u001b[0mtt_l\u001b[0m\u001b[0;34m[\u001b[0m\u001b[0;36m162\u001b[0m\u001b[0;34m]\u001b[0m\u001b[0;34m\u001b[0m\u001b[0m\n\u001b[0m",
      "\u001b[0;31mIndexError\u001b[0m: index 162 is out of bounds for axis 0 with size 5"
     ]
    }
   ],
   "source": [
    "tt_l[162]"
   ]
  },
  {
   "cell_type": "code",
   "execution_count": 94,
   "metadata": {
    "collapsed": true
   },
   "outputs": [],
   "source": [
    "np.random.shuffle(tt)"
   ]
  },
  {
   "cell_type": "code",
   "execution_count": 99,
   "metadata": {
    "collapsed": false
   },
   "outputs": [
    {
     "data": {
      "text/plain": [
       "array([ 18,  76, 140,  25, 162], dtype=int32)"
      ]
     },
     "execution_count": 99,
     "metadata": {},
     "output_type": "execute_result"
    }
   ],
   "source": [
    "tt[:,0,0,0]"
   ]
  },
  {
   "cell_type": "code",
   "execution_count": 96,
   "metadata": {
    "collapsed": false
   },
   "outputs": [
    {
     "data": {
      "text/plain": [
       "(5, 96, 1)"
      ]
     },
     "execution_count": 96,
     "metadata": {},
     "output_type": "execute_result"
    }
   ],
   "source": [
    "tt[:,0].shape"
   ]
  },
  {
   "cell_type": "code",
   "execution_count": 92,
   "metadata": {
    "collapsed": false
   },
   "outputs": [
    {
     "ename": "IndexError",
     "evalue": "index 210 is out of bounds for axis 0 with size 200",
     "output_type": "error",
     "traceback": [
      "\u001b[0;31m---------------------------------------------------------------------------\u001b[0m",
      "\u001b[0;31mIndexError\u001b[0m                                Traceback (most recent call last)",
      "\u001b[0;32m<ipython-input-92-f444e78ddea2>\u001b[0m in \u001b[0;36m<module>\u001b[0;34m()\u001b[0m\n\u001b[0;32m----> 1\u001b[0;31m \u001b[0mtt_l\u001b[0m \u001b[0;34m=\u001b[0m \u001b[0mtt_l\u001b[0m\u001b[0;34m[\u001b[0m\u001b[0mtt\u001b[0m\u001b[0;34m[\u001b[0m\u001b[0;34m:\u001b[0m\u001b[0;34m,\u001b[0m\u001b[0;36m0\u001b[0m\u001b[0;34m]\u001b[0m\u001b[0;34m]\u001b[0m\u001b[0;34m\u001b[0m\u001b[0m\n\u001b[0m",
      "\u001b[0;31mIndexError\u001b[0m: index 210 is out of bounds for axis 0 with size 200"
     ]
    }
   ],
   "source": [
    "tt_l = tt_l[tt[:,0]]"
   ]
  },
  {
   "cell_type": "code",
   "execution_count": 85,
   "metadata": {
    "collapsed": true
   },
   "outputs": [],
   "source": [
    "np.random.shuffle(test_images)"
   ]
  },
  {
   "cell_type": "code",
   "execution_count": 86,
   "metadata": {
    "collapsed": true
   },
   "outputs": [
    {
     "data": {
      "text/plain": [
       "array([[[[ 1,  4,  0,  0,  0,  0]],\n",
       "\n",
       "        [[ 2,  6, 10,  0,  0,  0]],\n",
       "\n",
       "        [[ 3,  1,  2,  9,  0,  0]],\n",
       "\n",
       "        ..., \n",
       "        [[ 2,  1,  7,  0,  0,  0]],\n",
       "\n",
       "        [[ 2,  1,  4,  0,  0,  0]],\n",
       "\n",
       "        [[ 2,  1,  7,  0,  0,  0]]],\n",
       "\n",
       "\n",
       "       [[[ 1,  3,  0,  0,  0,  0]],\n",
       "\n",
       "        [[ 1,  3,  0,  0,  0,  0]],\n",
       "\n",
       "        [[ 2,  6,  7,  0,  0,  0]],\n",
       "\n",
       "        ..., \n",
       "        [[ 2,  2,  8,  0,  0,  0]],\n",
       "\n",
       "        [[ 2,  4,  2,  0,  0,  0]],\n",
       "\n",
       "        [[ 2,  4,  2,  0,  0,  0]]],\n",
       "\n",
       "\n",
       "       [[[ 2,  1,  4,  0,  0,  0]],\n",
       "\n",
       "        [[ 2,  2,  5,  0,  0,  0]],\n",
       "\n",
       "        [[ 2,  2,  5,  0,  0,  0]],\n",
       "\n",
       "        ..., \n",
       "        [[ 2,  2,  1,  0,  0,  0]],\n",
       "\n",
       "        [[ 2,  1,  2,  0,  0,  0]],\n",
       "\n",
       "        [[ 2,  4,  2,  0,  0,  0]]],\n",
       "\n",
       "\n",
       "       ..., \n",
       "       [[[ 2,  2,  4,  0,  0,  0]],\n",
       "\n",
       "        [[ 2,  2,  4,  0,  0,  0]],\n",
       "\n",
       "        [[ 2,  2,  4,  0,  0,  0]],\n",
       "\n",
       "        ..., \n",
       "        [[ 2,  3,  6,  0,  0,  0]],\n",
       "\n",
       "        [[ 2,  9,  9,  0,  0,  0]],\n",
       "\n",
       "        [[ 2,  9,  9,  0,  0,  0]]],\n",
       "\n",
       "\n",
       "       [[[ 2,  2,  4,  0,  0,  0]],\n",
       "\n",
       "        [[ 2,  2,  1,  0,  0,  0]],\n",
       "\n",
       "        [[ 1,  9,  0,  0,  0,  0]],\n",
       "\n",
       "        ..., \n",
       "        [[ 2,  4,  3,  0,  0,  0]],\n",
       "\n",
       "        [[ 2,  1,  4,  0,  0,  0]],\n",
       "\n",
       "        [[ 2,  2,  4,  0,  0,  0]]],\n",
       "\n",
       "\n",
       "       [[[ 2,  2,  8,  0,  0,  0]],\n",
       "\n",
       "        [[ 2,  2,  8,  0,  0,  0]],\n",
       "\n",
       "        [[ 2,  2,  8,  0,  0,  0]],\n",
       "\n",
       "        ..., \n",
       "        [[ 3,  1,  4,  4,  0,  0]],\n",
       "\n",
       "        [[ 2,  3,  4,  0,  0,  0]],\n",
       "\n",
       "        [[ 2,  6,  5,  0,  0,  0]]]], dtype=int32)"
      ]
     },
     "execution_count": 86,
     "metadata": {},
     "output_type": "execute_result"
    }
   ],
   "source": [
    "test_labels[test_images[:,0]]"
   ]
  },
  {
   "cell_type": "code",
   "execution_count": null,
   "metadata": {
    "collapsed": true
   },
   "outputs": [],
   "source": []
  }
 ],
 "metadata": {
  "anaconda-cloud": {},
  "kernelspec": {
   "display_name": "Python 3",
   "language": "python",
   "name": "python3"
  },
  "language_info": {
   "codemirror_mode": {
    "name": "ipython",
    "version": 3
   },
   "file_extension": ".py",
   "mimetype": "text/x-python",
   "name": "python",
   "nbconvert_exporter": "python",
   "pygments_lexer": "ipython3",
   "version": "3.5.2"
  },
  "widgets": {
   "state": {},
   "version": "1.1.2"
  }
 },
 "nbformat": 4,
 "nbformat_minor": 1
}
