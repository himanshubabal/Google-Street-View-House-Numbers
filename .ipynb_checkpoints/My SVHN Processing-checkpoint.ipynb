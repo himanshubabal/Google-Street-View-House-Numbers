{
 "cells": [
  {
   "cell_type": "code",
   "execution_count": 1,
   "metadata": {
    "collapsed": false
   },
   "outputs": [],
   "source": [
    "from __future__ import print_function\n",
    "import matplotlib.pyplot as plt\n",
    "import numpy as np\n",
    "import os\n",
    "import sys\n",
    "import tarfile\n",
    "import tensorflow as tf\n",
    "from IPython.display import display, Image\n",
    "from PIL import Image\n",
    "from scipy import ndimage\n",
    "from six.moves.urllib.request import urlretrieve\n",
    "from six.moves import cPickle as pickle\n",
    "import scipy.ndimage\n",
    "import scipy.misc\n",
    "%matplotlib inline"
   ]
  },
  {
   "cell_type": "code",
   "execution_count": 2,
   "metadata": {
    "collapsed": true
   },
   "outputs": [],
   "source": [
    "dataset_location = '/home/carnd/Google-Street-View-House-Numbers/'"
   ]
  },
  {
   "cell_type": "code",
   "execution_count": 3,
   "metadata": {
    "collapsed": true
   },
   "outputs": [],
   "source": [
    "import h5py\n",
    "\n",
    "# The DigitStructFile is just a wrapper around the h5py data.  It basically references \n",
    "#    inf:              The input h5 matlab file\n",
    "#    digitStructName   The h5 ref to all the file names\n",
    "#    digitStructBbox   The h5 ref to all struc data\n",
    "class DigitStructFile:\n",
    "    def __init__(self, inf):\n",
    "        self.inf = h5py.File(inf, 'r')\n",
    "        self.digitStructName = self.inf['digitStruct']['name']\n",
    "        self.digitStructBbox = self.inf['digitStruct']['bbox']\n",
    "\n",
    "# getName returns the 'name' string for for the n(th) digitStruct. \n",
    "    def getName(self,n):\n",
    "        return ''.join([chr(c[0]) for c in self.inf[self.digitStructName[n][0]].value])\n",
    "\n",
    "# bboxHelper handles the coding difference when there is exactly one bbox or an array of bbox. \n",
    "    def bboxHelper(self,attr):\n",
    "        if (len(attr) > 1):\n",
    "            attr = [self.inf[attr.value[j].item()].value[0][0] for j in range(len(attr))]\n",
    "        else:\n",
    "            attr = [attr.value[0][0]]\n",
    "        return attr\n",
    "\n",
    "# getBbox returns a dict of data for the n(th) bbox. \n",
    "    def getBbox(self,n):\n",
    "        bbox = {}\n",
    "        bb = self.digitStructBbox[n].item()\n",
    "        bbox['height'] = self.bboxHelper(self.inf[bb][\"height\"])\n",
    "        bbox['label'] = self.bboxHelper(self.inf[bb][\"label\"])\n",
    "        bbox['left'] = self.bboxHelper(self.inf[bb][\"left\"])\n",
    "        bbox['top'] = self.bboxHelper(self.inf[bb][\"top\"])\n",
    "        bbox['width'] = self.bboxHelper(self.inf[bb][\"width\"])\n",
    "        return bbox\n",
    "\n",
    "    def getDigitStructure(self,n):\n",
    "        s = self.getBbox(n)\n",
    "        s['name']=self.getName(n)\n",
    "        return s\n",
    "\n",
    "# getAllDigitStructure returns all the digitStruct from the input file.     \n",
    "    def getAllDigitStructure(self):\n",
    "        return [self.getDigitStructure(i) for i in range(len(self.digitStructName))]\n",
    "\n",
    "# Return a restructured version of the dataset (one structure by boxed digit).\n",
    "#\n",
    "#   Return a list of such dicts :\n",
    "#      'filename' : filename of the samples\n",
    "#      'boxes' : list of such dicts (one by digit) :\n",
    "#          'label' : 1 to 9 corresponding digits. 10 for digit '0' in image.\n",
    "#          'left', 'top' : position of bounding box\n",
    "#          'width', 'height' : dimension of bounding box\n",
    "#\n",
    "# Note: We may turn this to a generator, if memory issues arise.\n",
    "    def getAllDigitStructure_ByDigit(self):\n",
    "        pictDat = self.getAllDigitStructure()\n",
    "        result = []\n",
    "        structCnt = 1\n",
    "        for i in range(len(pictDat)):\n",
    "            item = { 'filename' : pictDat[i][\"name\"] }\n",
    "            figures = []\n",
    "            for j in range(len(pictDat[i]['height'])):\n",
    "               figure = {}\n",
    "               figure['height'] = pictDat[i]['height'][j]\n",
    "               figure['label']  = pictDat[i]['label'][j]\n",
    "               figure['left']   = pictDat[i]['left'][j]\n",
    "               figure['top']    = pictDat[i]['top'][j]\n",
    "               figure['width']  = pictDat[i]['width'][j]\n",
    "               figures.append(figure)\n",
    "            structCnt = structCnt + 1\n",
    "            item['boxes'] = figures\n",
    "            result.append(item)\n",
    "        return result"
   ]
  },
  {
   "cell_type": "code",
   "execution_count": 4,
   "metadata": {
    "collapsed": false
   },
   "outputs": [],
   "source": [
    "fin = os.path.join(dataset_location + 'test', 'digitStruct.mat')\n",
    "dsf = DigitStructFile(fin)\n",
    "test_data = dsf.getAllDigitStructure_ByDigit()"
   ]
  },
  {
   "cell_type": "code",
   "execution_count": 5,
   "metadata": {
    "collapsed": false
   },
   "outputs": [
    {
     "data": {
      "text/plain": [
       "13068"
      ]
     },
     "execution_count": 5,
     "metadata": {},
     "output_type": "execute_result"
    }
   ],
   "source": [
    "len(test_data)"
   ]
  },
  {
   "cell_type": "code",
   "execution_count": 6,
   "metadata": {
    "collapsed": true
   },
   "outputs": [],
   "source": [
    "fin = os.path.join(dataset_location + 'train', 'digitStruct.mat')\n",
    "dsf = DigitStructFile(fin)\n",
    "train_data = dsf.getAllDigitStructure_ByDigit()"
   ]
  },
  {
   "cell_type": "code",
   "execution_count": 7,
   "metadata": {
    "collapsed": false
   },
   "outputs": [
    {
     "data": {
      "text/plain": [
       "33402"
      ]
     },
     "execution_count": 7,
     "metadata": {},
     "output_type": "execute_result"
    }
   ],
   "source": [
    "len(train_data)"
   ]
  },
  {
   "cell_type": "code",
   "execution_count": 8,
   "metadata": {
    "collapsed": true
   },
   "outputs": [],
   "source": [
    "fin = os.path.join(dataset_location + 'extra', 'digitStruct.mat')\n",
    "dsf = DigitStructFile(fin)\n",
    "extra_data = dsf.getAllDigitStructure_ByDigit()"
   ]
  },
  {
   "cell_type": "code",
   "execution_count": 9,
   "metadata": {
    "collapsed": false
   },
   "outputs": [
    {
     "data": {
      "text/plain": [
       "202353"
      ]
     },
     "execution_count": 9,
     "metadata": {},
     "output_type": "execute_result"
    }
   ],
   "source": [
    "len(extra_data)"
   ]
  },
  {
   "cell_type": "code",
   "execution_count": 10,
   "metadata": {
    "collapsed": true
   },
   "outputs": [],
   "source": [
    "def load_image(file_name, folder_name) :\n",
    "    image_name = dataset_location + folder_name + '/' + file_name\n",
    "    img = Image.open(image_name)\n",
    "    img.load()\n",
    "    data = np.asarray(img, dtype=\"int32\")\n",
    "    return data"
   ]
  },
  {
   "cell_type": "code",
   "execution_count": 11,
   "metadata": {
    "collapsed": true
   },
   "outputs": [],
   "source": [
    "def plot_img(image):\n",
    "    plt.imshow(image)\n",
    "    plt.show()"
   ]
  },
  {
   "cell_type": "code",
   "execution_count": 12,
   "metadata": {
    "collapsed": false
   },
   "outputs": [
    {
     "name": "stdout",
     "output_type": "stream",
     "text": [
      "Compressed pickle size: 74750515\n"
     ]
    }
   ],
   "source": [
    "pickle_file = 'SVHN_new_data_struct.pickle'\n",
    "\n",
    "try:\n",
    "  f = open(pickle_file, 'wb')\n",
    "  save = {\n",
    "    'train_data': train_data,\n",
    "    'extra_data': extra_data,\n",
    "    'test_data': test_data,\n",
    "    }\n",
    "  pickle.dump(save, f, pickle.HIGHEST_PROTOCOL)\n",
    "  f.close()\n",
    "except Exception as e:\n",
    "  print('Unable to save data to', pickle_file, ':', e)\n",
    "  raise\n",
    "    \n",
    "statinfo = os.stat(pickle_file)\n",
    "print('Compressed pickle size:', statinfo.st_size)"
   ]
  },
  {
   "cell_type": "code",
   "execution_count": 13,
   "metadata": {
    "collapsed": true
   },
   "outputs": [
    {
     "name": "stdout",
     "output_type": "stream",
     "text": [
      "0.0\n",
      "3.8261401897765537\n",
      "7.652280379553107\n",
      "11.47842056932966\n",
      "15.304560759106215\n",
      "19.13070094888277\n",
      "22.95684113865932\n",
      "26.782981328435874\n",
      "30.60912151821243\n",
      "34.43526170798898\n",
      "38.26140189776554\n",
      "42.08754208754209\n",
      "45.91368227731864\n",
      "49.739822467095195\n",
      "53.56596265687175\n",
      "57.3921028466483\n",
      "61.21824303642486\n",
      "65.0443832262014\n",
      "68.87052341597796\n",
      "72.69666360575452\n",
      "76.52280379553108\n",
      "80.34894398530761\n",
      "84.17508417508418\n",
      "88.00122436486073\n",
      "91.82736455463728\n",
      "95.65350474441384\n",
      "99.47964493419039\n"
     ]
    }
   ],
   "source": [
    "# test_images = np.empty([len(test_data), 32, 32, 3], dtype=int)\n",
    "# test_images = np.empty([32, 32, 3], dtype=int)\n",
    "test_images = np.array([])\n",
    "test_labels = np.array([])\n",
    "folder_name = 'test'\n",
    "\n",
    "l = len(test_data)\n",
    "\n",
    "for i in range(l) :\n",
    "    image = test_data[i]\n",
    "    im = load_image(image['filename'], folder_name)\n",
    "    im = scipy.misc.imresize(im, (32, 32, 3))\n",
    "    label = image['boxes'][0]['label']\n",
    "\n",
    "    if len(test_images) == 0:\n",
    "        test_images = np.array([im])\n",
    "    else :\n",
    "        test_images = np.append(test_images, np.array([im]), axis=0)\n",
    "    \n",
    "    \n",
    "    test_labels = np.append(test_labels, label)\n",
    "    \n",
    "    if i % 500 == 0:\n",
    "        print((i/l)*100)"
   ]
  },
  {
   "cell_type": "code",
   "execution_count": null,
   "metadata": {
    "collapsed": true
   },
   "outputs": [
    {
     "name": "stdout",
     "output_type": "stream",
     "text": [
      "0.0\n",
      "1.4969163523142326\n",
      "2.993832704628465\n",
      "4.490749056942698\n",
      "5.98766540925693\n",
      "7.484581761571163\n",
      "8.981498113885396\n",
      "10.478414466199629\n",
      "11.97533081851386\n",
      "13.472247170828094\n",
      "14.969163523142326\n",
      "16.46607987545656\n",
      "17.96299622777079\n",
      "19.459912580085025\n",
      "20.956828932399258\n",
      "22.453745284713488\n",
      "23.95066163702772\n",
      "25.44757798934196\n",
      "26.94449434165619\n",
      "28.441410693970422\n",
      "29.938327046284652\n",
      "31.43524339859889\n",
      "32.93215975091312\n",
      "34.42907610322735\n",
      "35.92599245554158\n",
      "37.42290880785581\n",
      "38.91982516017005\n",
      "40.416741512484286\n",
      "41.913657864798516\n",
      "43.410574217112746\n",
      "44.907490569426976\n",
      "46.40440692174121\n",
      "47.90132327405544\n",
      "49.39823962636968\n",
      "50.89515597868392\n",
      "52.39207233099814\n",
      "53.88898868331238\n",
      "55.385905035626614\n",
      "56.882821387940844\n",
      "58.37973774025508\n",
      "59.876654092569304\n",
      "61.37357044488354\n",
      "62.87048679719778\n",
      "64.367403149512\n",
      "65.86431950182624\n",
      "67.36123585414046\n",
      "68.8581522064547\n",
      "70.35506855876893\n",
      "71.85198491108316\n",
      "73.34890126339741\n",
      "74.84581761571162\n",
      "76.34273396802587\n",
      "77.8396503203401\n",
      "79.33656667265433\n",
      "80.83348302496857\n",
      "82.33039937728279\n",
      "83.82731572959703\n",
      "85.32423208191126\n",
      "86.82114843422549\n",
      "88.31806478653974\n",
      "89.81498113885395\n",
      "91.3118974911682\n",
      "92.80881384348243\n",
      "94.30573019579666\n",
      "95.80264654811089\n",
      "97.29956290042513\n",
      "98.79647925273936\n"
     ]
    }
   ],
   "source": [
    "# test_images = np.empty([len(test_data), 32, 32, 3], dtype=int)\n",
    "# test_images = np.empty([32, 32, 3], dtype=int)\n",
    "train_images = np.array([])\n",
    "train_labels = np.array([])\n",
    "folder_name = 'train'\n",
    "\n",
    "l = len(train_data)\n",
    "\n",
    "for i in range(l) :\n",
    "    image = train_data[i]\n",
    "    im = load_image(image['filename'], folder_name)\n",
    "    im = scipy.misc.imresize(im, (32, 32, 3))\n",
    "    label = image['boxes'][0]['label']\n",
    "\n",
    "    if len(train_images) == 0:\n",
    "        train_images = np.array([im])\n",
    "    else :\n",
    "        train_images = np.append(train_images, np.array([im]), axis=0)\n",
    "    \n",
    "    \n",
    "    train_labels = np.append(train_labels, label)\n",
    "    \n",
    "    if i % 1000 == 0:\n",
    "        print((i/l)*100)"
   ]
  },
  {
   "cell_type": "code",
   "execution_count": null,
   "metadata": {
    "collapsed": false,
    "scrolled": false
   },
   "outputs": [
    {
     "name": "stdout",
     "output_type": "stream",
     "text": [
      "0.0\n",
      "0.24709295142646762\n",
      "0.49418590285293523\n",
      "0.7412788542794029\n",
      "0.9883718057058705\n",
      "1.235464757132338\n",
      "1.4825577085588058\n",
      "1.7296506599852732\n",
      "1.976743611411741\n",
      "2.2238365628382084\n",
      "2.470929514264676\n",
      "2.718022465691144\n",
      "2.9651154171176115\n",
      "3.212208368544079\n",
      "3.4593013199705465\n",
      "3.706394271397014\n",
      "3.953487222823482\n",
      "4.200580174249949\n",
      "4.447673125676417\n",
      "4.6947660771028845\n",
      "4.941859028529352\n",
      "5.18895197995582\n",
      "5.436044931382288\n",
      "5.683137882808755\n",
      "5.930230834235223\n",
      "6.177323785661691\n",
      "6.424416737088158\n",
      "6.671509688514625\n",
      "6.918602639941093\n",
      "7.165695591367561\n",
      "7.412788542794028\n",
      "7.659881494220495\n",
      "7.906974445646964\n",
      "8.154067397073431\n",
      "8.401160348499898\n",
      "8.648253299926365\n",
      "8.895346251352834\n",
      "9.1424392027793\n",
      "9.389532154205769\n",
      "9.636625105632236\n",
      "9.883718057058704\n",
      "10.130811008485171\n",
      "10.37790395991164\n",
      "10.624996911338107\n",
      "10.872089862764575\n",
      "11.119182814191042\n",
      "11.36627576561751\n",
      "11.613368717043977\n",
      "11.860461668470446\n",
      "12.107554619896913\n",
      "12.354647571323381\n",
      "12.60174052274985\n",
      "12.848833474176317\n",
      "13.095926425602784\n",
      "13.34301937702925\n",
      "13.590112328455719\n",
      "13.837205279882186\n",
      "14.084298231308653\n",
      "14.331391182735121\n",
      "14.57848413416159\n",
      "14.825577085588057\n",
      "15.072670037014523\n",
      "15.31976298844099\n",
      "15.56685593986746\n",
      "15.813948891293927\n",
      "16.061041842720396\n",
      "16.308134794146863\n",
      "16.55522774557333\n",
      "16.802320696999796\n",
      "17.049413648426263\n",
      "17.29650659985273\n",
      "17.5435995512792\n",
      "17.790692502705667\n",
      "18.037785454132134\n",
      "18.2848784055586\n",
      "18.53197135698507\n",
      "18.779064308411538\n",
      "19.026157259838005\n",
      "19.27325021126447\n",
      "19.520343162690942\n",
      "19.76743611411741\n",
      "20.014529065543876\n",
      "20.261622016970342\n",
      "20.508714968396813\n",
      "20.75580791982328\n",
      "21.002900871249746\n",
      "21.249993822676213\n",
      "21.497086774102684\n",
      "21.74417972552915\n",
      "21.991272676955617\n",
      "22.238365628382084\n",
      "22.48545857980855\n",
      "22.73255153123502\n",
      "22.979644482661488\n",
      "23.226737434087955\n",
      "23.47383038551442\n",
      "23.720923336940892\n",
      "23.96801628836736\n",
      "24.215109239793826\n",
      "24.462202191220292\n",
      "24.709295142646763\n",
      "24.95638809407323\n",
      "25.2034810454997\n",
      "25.450573996926163\n",
      "25.697666948352634\n",
      "25.944759899779097\n",
      "26.191852851205567\n",
      "26.438945802632034\n",
      "26.6860387540585\n",
      "26.933131705484968\n",
      "27.180224656911438\n"
     ]
    }
   ],
   "source": [
    "# test_images = np.empty([len(test_data), 32, 32, 3], dtype=int)\n",
    "# test_images = np.empty([32, 32, 3], dtype=int)\n",
    "extra_images = np.array([])\n",
    "extra_labels = np.array([])\n",
    "folder_name = 'extra'\n",
    "\n",
    "l = len(extra_data)\n",
    "\n",
    "for i in range(l) :\n",
    "    image = extra_data[i]\n",
    "    im = load_image(image['filename'], folder_name)\n",
    "    im = scipy.misc.imresize(im, (32, 32, 3))\n",
    "    label = image['boxes'][0]['label']\n",
    "\n",
    "    if len(extra_images) == 0:\n",
    "        extra_images = np.array([im])\n",
    "    else :\n",
    "        extra_images = np.append(extra_images, np.array([im]), axis=0)\n",
    "    \n",
    "    \n",
    "    extra_labels = np.append(extra_labels, label)\n",
    "    \n",
    "    if i % 2000 == 0:\n",
    "        print((i/l)*100)"
   ]
  },
  {
   "cell_type": "code",
   "execution_count": null,
   "metadata": {
    "collapsed": true
   },
   "outputs": [],
   "source": [
    "train_images.shape"
   ]
  },
  {
   "cell_type": "code",
   "execution_count": null,
   "metadata": {
    "collapsed": true
   },
   "outputs": [],
   "source": [
    "train_labels.shape"
   ]
  },
  {
   "cell_type": "code",
   "execution_count": null,
   "metadata": {
    "collapsed": true
   },
   "outputs": [],
   "source": [
    "extra_images.shape"
   ]
  },
  {
   "cell_type": "code",
   "execution_count": null,
   "metadata": {
    "collapsed": true
   },
   "outputs": [],
   "source": [
    "extra_labels.shape"
   ]
  },
  {
   "cell_type": "code",
   "execution_count": null,
   "metadata": {
    "collapsed": false,
    "scrolled": true
   },
   "outputs": [],
   "source": [
    "test_images.shape"
   ]
  },
  {
   "cell_type": "code",
   "execution_count": null,
   "metadata": {
    "collapsed": false
   },
   "outputs": [],
   "source": [
    "test_labels.shape"
   ]
  },
  {
   "cell_type": "code",
   "execution_count": null,
   "metadata": {
    "collapsed": true
   },
   "outputs": [],
   "source": []
  },
  {
   "cell_type": "code",
   "execution_count": null,
   "metadata": {
    "collapsed": true
   },
   "outputs": [],
   "source": [
    "pickle_file = 'SVHN_new_interm.pickle'\n",
    "\n",
    "try:\n",
    "  f = open(pickle_file, 'wb')\n",
    "  save = {\n",
    "    'train_images': train_images,\n",
    "    'train_labels': train_labels,\n",
    "    'extra_images': extra_images,\n",
    "    'extra_labels': extra_labels,\n",
    "    'test_images': test_images,\n",
    "    'test_labels': test_labels,\n",
    "    }\n",
    "  pickle.dump(save, f, pickle.HIGHEST_PROTOCOL)\n",
    "  f.close()\n",
    "except Exception as e:\n",
    "  print('Unable to save data to', pickle_file, ':', e)\n",
    "  raise\n",
    "    \n",
    "statinfo = os.stat(pickle_file)\n",
    "print('Compressed pickle size:', statinfo.st_size)"
   ]
  },
  {
   "cell_type": "code",
   "execution_count": null,
   "metadata": {
    "collapsed": true
   },
   "outputs": [],
   "source": []
  }
 ],
 "metadata": {
  "anaconda-cloud": {},
  "kernelspec": {
   "display_name": "Python 3",
   "language": "python",
   "name": "python3"
  },
  "language_info": {
   "codemirror_mode": {
    "name": "ipython",
    "version": 3
   },
   "file_extension": ".py",
   "mimetype": "text/x-python",
   "name": "python",
   "nbconvert_exporter": "python",
   "pygments_lexer": "ipython3",
   "version": "3.5.2"
  },
  "widgets": {
   "state": {},
   "version": "1.1.2"
  }
 },
 "nbformat": 4,
 "nbformat_minor": 1
}
