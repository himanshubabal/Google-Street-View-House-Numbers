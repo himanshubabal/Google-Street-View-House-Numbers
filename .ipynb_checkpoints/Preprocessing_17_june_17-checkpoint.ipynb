{
 "cells": [
  {
   "cell_type": "code",
   "execution_count": 1,
   "metadata": {
    "collapsed": true
   },
   "outputs": [],
   "source": [
    "from __future__ import print_function\n",
    "import matplotlib.pyplot as plt\n",
    "import numpy as np\n",
    "import os\n",
    "import sys\n",
    "import tarfile\n",
    "from IPython.display import display, Image\n",
    "from PIL import Image\n",
    "from scipy import ndimage\n",
    "from six.moves.urllib.request import urlretrieve\n",
    "from six.moves import cPickle as pickle\n",
    "import scipy.ndimage\n",
    "import scipy.misc\n",
    "%matplotlib inline\n",
    "import h5py\n",
    "import gc\n",
    "import time"
   ]
  },
  {
   "cell_type": "code",
   "execution_count": 2,
   "metadata": {
    "collapsed": true
   },
   "outputs": [],
   "source": [
    "dataset_location = '/Users/himanshubabal/Documents/External_Disk_Link_WD_HDD/Study/SVHN/SVHN-Full_Dataset/'"
   ]
  },
  {
   "cell_type": "code",
   "execution_count": 3,
   "metadata": {
    "collapsed": true
   },
   "outputs": [],
   "source": [
    "# The DigitStructFile is just a wrapper around the h5py data.  It basically references \n",
    "#    inf:              The input h5 matlab file\n",
    "#    digitStructName   The h5 ref to all the file names\n",
    "#    digitStructBbox   The h5 ref to all struc data\n",
    "class DigitStructFile:\n",
    "    def __init__(self, inf):\n",
    "        self.inf = h5py.File(inf, 'r')\n",
    "        self.digitStructName = self.inf['digitStruct']['name']\n",
    "        self.digitStructBbox = self.inf['digitStruct']['bbox']\n",
    "\n",
    "# getName returns the 'name' string for for the n(th) digitStruct. \n",
    "    def getName(self,n):\n",
    "        return ''.join([chr(c[0]) for c in self.inf[self.digitStructName[n][0]].value])\n",
    "\n",
    "# bboxHelper handles the coding difference when there is exactly one bbox or an array of bbox. \n",
    "    def bboxHelper(self,attr):\n",
    "        if (len(attr) > 1):\n",
    "            attr = [self.inf[attr.value[j].item()].value[0][0] for j in range(len(attr))]\n",
    "        else:\n",
    "            attr = [attr.value[0][0]]\n",
    "        return attr\n",
    "\n",
    "# getBbox returns a dict of data for the n(th) bbox. \n",
    "    def getBbox(self,n):\n",
    "        bbox = {}\n",
    "        bb = self.digitStructBbox[n].item()\n",
    "        bbox['height'] = self.bboxHelper(self.inf[bb][\"height\"])\n",
    "        bbox['label'] = self.bboxHelper(self.inf[bb][\"label\"])\n",
    "        bbox['left'] = self.bboxHelper(self.inf[bb][\"left\"])\n",
    "        bbox['top'] = self.bboxHelper(self.inf[bb][\"top\"])\n",
    "        bbox['width'] = self.bboxHelper(self.inf[bb][\"width\"])\n",
    "        return bbox\n",
    "\n",
    "    def getDigitStructure(self,n):\n",
    "        s = self.getBbox(n)\n",
    "        s['name']=self.getName(n)\n",
    "        return s\n",
    "\n",
    "# getAllDigitStructure returns all the digitStruct from the input file.     \n",
    "    def getAllDigitStructure(self):\n",
    "        return [self.getDigitStructure(i) for i in range(len(self.digitStructName))]\n",
    "\n",
    "# Return a restructured version of the dataset (one structure by boxed digit).\n",
    "#\n",
    "#   Return a list of such dicts :\n",
    "#      'filename' : filename of the samples\n",
    "#      'boxes' : list of such dicts (one by digit) :\n",
    "#          'label' : 1 to 9 corresponding digits. 10 for digit '0' in image.\n",
    "#          'left', 'top' : position of bounding box\n",
    "#          'width', 'height' : dimension of bounding box\n",
    "#\n",
    "# Note: We may turn this to a generator, if memory issues arise.\n",
    "    def getAllDigitStructure_ByDigit(self):\n",
    "        pictDat = self.getAllDigitStructure()\n",
    "        result = []\n",
    "        structCnt = 1\n",
    "        for i in range(len(pictDat)):\n",
    "            item = { 'filename' : pictDat[i][\"name\"] }\n",
    "            figures = []\n",
    "            for j in range(len(pictDat[i]['height'])):\n",
    "               figure = {}\n",
    "               figure['height'] = pictDat[i]['height'][j]\n",
    "               figure['label']  = pictDat[i]['label'][j]\n",
    "               figure['left']   = pictDat[i]['left'][j]\n",
    "               figure['top']    = pictDat[i]['top'][j]\n",
    "               figure['width']  = pictDat[i]['width'][j]\n",
    "               figures.append(figure)\n",
    "            structCnt = structCnt + 1\n",
    "            item['boxes'] = figures\n",
    "            result.append(item)\n",
    "        return result"
   ]
  },
  {
   "cell_type": "code",
   "execution_count": 4,
   "metadata": {
    "collapsed": true
   },
   "outputs": [],
   "source": [
    "fin = os.path.join(dataset_location + 'test', 'digitStruct.mat')\n",
    "dsf = DigitStructFile(fin)\n",
    "test_data = dsf.getAllDigitStructure_ByDigit()"
   ]
  },
  {
   "cell_type": "code",
   "execution_count": 5,
   "metadata": {
    "collapsed": false
   },
   "outputs": [
    {
     "data": {
      "text/plain": [
       "13068"
      ]
     },
     "execution_count": 5,
     "metadata": {},
     "output_type": "execute_result"
    }
   ],
   "source": [
    "len(test_data)"
   ]
  },
  {
   "cell_type": "code",
   "execution_count": 14,
   "metadata": {
    "collapsed": false
   },
   "outputs": [
    {
     "data": {
      "text/plain": [
       "{'height': 43.0, 'label': 3.0, 'left': 52.0, 'top': 9.0, 'width': 24.0}"
      ]
     },
     "execution_count": 14,
     "metadata": {},
     "output_type": "execute_result"
    }
   ],
   "source": [
    "test_data[10]['boxes'][0]"
   ]
  },
  {
   "cell_type": "code",
   "execution_count": 7,
   "metadata": {
    "collapsed": true
   },
   "outputs": [],
   "source": [
    "def plot_img(image):\n",
    "    plt.imshow(image)\n",
    "    plt.show()"
   ]
  },
  {
   "cell_type": "code",
   "execution_count": 25,
   "metadata": {
    "collapsed": false
   },
   "outputs": [],
   "source": [
    "def get_img(j):\n",
    "\n",
    "    folder_name = 'test'\n",
    "\n",
    "    image = test_data[j]\n",
    "    image_name = dataset_location + folder_name + '/' + image['filename']\n",
    "\n",
    "    img = Image.open(image_name)\n",
    "    img.load()\n",
    "    img = np.asarray(img, dtype=\"float32\")\n",
    "\n",
    "    return img"
   ]
  },
  {
   "cell_type": "code",
   "execution_count": 9,
   "metadata": {
    "collapsed": true
   },
   "outputs": [],
   "source": [
    "import cv2"
   ]
  },
  {
   "cell_type": "code",
   "execution_count": 11,
   "metadata": {
    "collapsed": false
   },
   "outputs": [
    {
     "data": {
      "text/plain": [
       "(67, 153, 3)"
      ]
     },
     "execution_count": 11,
     "metadata": {},
     "output_type": "execute_result"
    }
   ],
   "source": [
    "img.shape"
   ]
  },
  {
   "cell_type": "code",
   "execution_count": 17,
   "metadata": {
    "collapsed": false
   },
   "outputs": [
    {
     "data": {
      "text/plain": [
       "{'height': 43.0, 'label': 3.0, 'left': 52.0, 'top': 9.0, 'width': 24.0}"
      ]
     },
     "execution_count": 17,
     "metadata": {},
     "output_type": "execute_result"
    }
   ],
   "source": [
    "test_data[10]['boxes'][0]"
   ]
  },
  {
   "cell_type": "code",
   "execution_count": 54,
   "metadata": {
    "collapsed": true
   },
   "outputs": [],
   "source": [
    "# In -> tuple (x, x)\n",
    "def limit_float(number):\n",
    "    a = float(\"{0:.4f}\".format(number[0]))\n",
    "    b = float(\"{0:.4f}\".format(number[1]))\n",
    "    return(a, b)"
   ]
  },
  {
   "cell_type": "code",
   "execution_count": 86,
   "metadata": {
    "collapsed": false
   },
   "outputs": [
    {
     "name": "stdout",
     "output_type": "stream",
     "text": [
      "99 47\n",
      "(43, 7) (62, 37)\n",
      "(0.4343, 0.1489) (0.6263, 0.7872)\n",
      "\n"
     ]
    },
    {
     "data": {
      "image/png": "[encoded data removed]",
      "text/plain": [
       "<matplotlib.figure.Figure at 0x119330bd0>"
      ]
     },
     "metadata": {},
     "output_type": "display_data"
    }
   ],
   "source": [
    "j = 0\n",
    "\n",
    "i = np.copy(get_img(j))\n",
    "\n",
    "i_x = i.shape[1]\n",
    "i_y = i.shape[0]\n",
    "print(i_x, i_y)\n",
    "\n",
    "x_list, y_list = list(), list()\n",
    "for k in range(len(test_data[j]['boxes'])):\n",
    "    i_1 = test_data[j]['boxes'][k]\n",
    "    p1 = (int(i_1['left']), int(i_1['top']))\n",
    "    p2 = (int(i_1['left']) + int(i_1['width']), int(i_1['top']) + int(i_1['height']))\n",
    "    print(p1, p2)\n",
    "    \n",
    "    p1_new = limit_float((float(p1[0])/i_x, float(p1[1])/i_y))\n",
    "    p2_new = limit_float((float(p2[0])/i_x, float(p2[1])/i_y))\n",
    "    print(p1_new, p2_new)\n",
    "    \n",
    "    x_list.append(p1[0])\n",
    "    x_list.append(p2[0])\n",
    "    y_list.append(p1[1])\n",
    "    y_list.append(p2[1])\n",
    "    \n",
    "    cv2.rectangle(i,p1,p2,(0,255,0),2)\n",
    "    print('')\n",
    "\n",
    "p1 = (min(x_list), max(y_list))\n",
    "p2 = (max(x_list), min(y_list))\n",
    "cv2.rectangle(i,p1,p2,(255,0,0),5)\n",
    "\n",
    "plot_img(i)\n"
   ]
  },
  {
   "cell_type": "code",
   "execution_count": 87,
   "metadata": {
    "collapsed": false
   },
   "outputs": [
    {
     "name": "stdout",
     "output_type": "stream",
     "text": [
      "(47, 99, 3)\n",
      "{'width': 19.0, 'top': 7.0, 'label': 5.0, 'left': 43.0, 'height': 30.0}\n",
      "(43, 7) (62, 37)\n",
      "(0.4343, 0.1489) (0.6263, 0.7872)\n",
      "[ 0.4343  0.7872  0.6263  0.1489  0.4343  0.1489  0.6263  0.7872  0.1     0.1\n",
      "  1.1     1.1     0.1     0.1     1.1     1.1     0.1     0.1     1.1     1.1\n",
      "  0.1     0.1     1.1     1.1   ]\n",
      "0\n"
     ]
    }
   ],
   "source": [
    "l = len(test_data)\n",
    "l = 1\n",
    "\n",
    "test_images = np.ndarray([l, 32, 96, 1], dtype='float32')\n",
    "test_labels = np.ndarray([l, 6], dtype='int32')\n",
    "test_boxes = np.ndarray([l, 24], dtype='float32')\n",
    "\n",
    "no_img_points = [0.1, 0.1, 1.1, 1.1]\n",
    "\n",
    "folder_name = 'test'\n",
    "\n",
    "for i in range(l) :\n",
    "    image = test_data[i]\n",
    "    image_name = dataset_location + folder_name + '/' + image['filename']\n",
    "    \n",
    "    img = Image.open(image_name)\n",
    "    img.load()\n",
    "    img = np.asarray(img, dtype=\"float32\")\n",
    "    \n",
    "    img_box = np.copy(img)\n",
    "    \n",
    "    # Resizing Image to be of 32x96x3 dimensions\n",
    "    img = scipy.misc.imresize(img, (32, 96))\n",
    "    # Converting A x B x 3 -> A x B x 1\n",
    "    img = np.dot(img, [[0.2989],[0.5870],[0.1140]])\n",
    "    \n",
    "    # Mean and Std Deviation of Image\n",
    "    mean = np.mean(img, dtype='float32')\n",
    "    std = np.std(img, dtype='float32', ddof=1)\n",
    "    if std < 1e-4:\n",
    "        std = 1.0\n",
    "    # Normalizing the image\n",
    "    im = (img - mean)/std\n",
    "    \n",
    "    # Finding No of Digits in given image\n",
    "    no_of_digits = len(image['boxes'])\n",
    "    # If no of digits is > 5\n",
    "    # Leave this example out, as we don't need it\n",
    "    # Continue to next Iteration\n",
    "    if no_of_digits > 5:\n",
    "        print('more then 5 digits', image['boxes'])\n",
    "        continue\n",
    "\n",
    "    # Numpy Array 'dig' will contain digits in the format :\n",
    "    # [No_of_digits, _, _, _, _, _]\n",
    "    dig = np.array([])\n",
    "    dig = np.append(dig, no_of_digits)\n",
    "    \n",
    "    for j in range(no_of_digits) :\n",
    "        digit = image['boxes'][j]['label']\n",
    "        dig = np.append(dig, digit)\n",
    "    \n",
    "    # Appending '0' to represent Empty Space\n",
    "    zeros = 5 - no_of_digits\n",
    "    for z in range(zeros) :\n",
    "        dig = np.append(dig, 0)\n",
    "        \n",
    "    test_images[i,:,:,:] = im[:,:,:]\n",
    "    test_labels[i,:] = dig\n",
    "    \n",
    "    # Bounding Boxes\n",
    "    print(img_box.shape)\n",
    "    bbox = np.array([])\n",
    "    i_x, i_y = img_box.shape[1], img_box.shape[0]\n",
    "    x_list, y_list = list(), list()\n",
    "    # Store in order [x11, y11, x12, y12,   x21, y21, x22, y22,   x31, y31, x32, y32, ..... upto 5 images]\n",
    "    points_list = []\n",
    "    \n",
    "    for k in range(len(image['boxes'])):\n",
    "        i_1 = image['boxes'][k]\n",
    "        print(i_1)\n",
    "        p1 = (int(i_1['left']), int(i_1['top']))\n",
    "        p2 = (int(i_1['left']) + int(i_1['width']), int(i_1['top']) + int(i_1['height']))\n",
    "        print(p1, p2)\n",
    "        p1_new = limit_float((float(p1[0])/i_x, float(p1[1])/i_y))\n",
    "        p2_new = limit_float((float(p2[0])/i_x, float(p2[1])/i_y))\n",
    "        \n",
    "        print(p1_new, p2_new)\n",
    "\n",
    "        x_list.append(p1_new[0])\n",
    "        x_list.append(p2_new[0])\n",
    "        y_list.append(p1_new[1])\n",
    "        y_list.append(p2_new[1])\n",
    "        \n",
    "        points_list.append(p1_new[0])\n",
    "        points_list.append(p1_new[1])\n",
    "        points_list.append(p2_new[0])\n",
    "        points_list.append(p2_new[1])\n",
    "\n",
    "    \n",
    "    \n",
    "\n",
    "    p1 = (min(x_list), max(y_list))\n",
    "    p2 = (max(x_list), min(y_list))\n",
    "    bbox = np.append(bbox, [p1[0], p1[1], p2[0], p2[1]])\n",
    "    \n",
    "    bbox = np.append(bbox, points_list)\n",
    "    \n",
    "    zeros = 5 - no_of_digits\n",
    "    for z in range(zeros) :\n",
    "        bbox = np.append(bbox, no_img_points)\n",
    "        \n",
    "    test_boxes[i,:] = bbox\n",
    "    print(bbox)\n",
    "    \n",
    "    if i % 1500 == 0:\n",
    "        print((i/l)*100)\n",
    "        "
   ]
  },
  {
   "cell_type": "code",
   "execution_count": 88,
   "metadata": {
    "collapsed": false
   },
   "outputs": [
    {
     "data": {
      "text/plain": [
       "array([[1, 5, 0, 0, 0, 0]], dtype=int32)"
      ]
     },
     "execution_count": 88,
     "metadata": {},
     "output_type": "execute_result"
    }
   ],
   "source": [
    "test_labels"
   ]
  },
  {
   "cell_type": "code",
   "execution_count": 89,
   "metadata": {
    "collapsed": false
   },
   "outputs": [
    {
     "data": {
      "text/plain": [
       "array([[ 0.43430001,  0.78719997,  0.62629998,  0.1489    ,  0.43430001,\n",
       "         0.1489    ,  0.62629998,  0.78719997,  0.1       ,  0.1       ,\n",
       "         1.10000002,  1.10000002,  0.1       ,  0.1       ,  1.10000002,\n",
       "         1.10000002,  0.1       ,  0.1       ,  1.10000002,  1.10000002,\n",
       "         0.1       ,  0.1       ,  1.10000002,  1.10000002]], dtype=float32)"
      ]
     },
     "execution_count": 89,
     "metadata": {},
     "output_type": "execute_result"
    }
   ],
   "source": [
    "test_boxes"
   ]
  },
  {
   "cell_type": "code",
   "execution_count": null,
   "metadata": {
    "collapsed": true
   },
   "outputs": [],
   "source": []
  }
 ],
 "metadata": {
  "anaconda-cloud": {},
  "kernelspec": {
   "display_name": "Python [conda root]",
   "language": "python",
   "name": "conda-root-py"
  },
  "language_info": {
   "codemirror_mode": {
    "name": "ipython",
    "version": 2
   },
   "file_extension": ".py",
   "mimetype": "text/x-python",
   "name": "python",
   "nbconvert_exporter": "python",
   "pygments_lexer": "ipython2",
   "version": "2.7.12"
  }
 },
 "nbformat": 4,
 "nbformat_minor": 1
}
