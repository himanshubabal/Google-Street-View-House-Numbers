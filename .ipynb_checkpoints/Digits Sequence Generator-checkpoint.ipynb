{
 "cells": [
  {
   "cell_type": "code",
   "execution_count": null,
   "metadata": {
    "collapsed": true
   },
   "outputs": [],
   "source": [
    "from __future__ import print_function\n",
    "import numpy as np\n",
    "import tensorflow as tf\n",
    "from six.moves import cPickle as pickle\n",
    "from six.moves import range\n",
    "import pickle\n",
    "import scipy.io\n",
    "import idx2numpy\n",
    "import random\n",
    "from matplotlib import pyplot as plt"
   ]
  },
  {
   "cell_type": "code",
   "execution_count": null,
   "metadata": {
    "collapsed": false
   },
   "outputs": [],
   "source": [
    "pickle_file = 'notMNIST.pickle'\n",
    "\n",
    "with open(pickle_file, 'rb') as f:\n",
    "    save = pickle.load(f)\n",
    "    train_dataset = save['train_dataset']\n",
    "    train_labels = save['train_labels']\n",
    "    valid_dataset = save['valid_dataset']\n",
    "    valid_labels = save['valid_labels']\n",
    "    test_dataset = save['test_dataset']\n",
    "    test_labels = save['test_labels']\n",
    "    \n",
    "    del save  # hint to help gc free up memory\n",
    "    \n",
    "    print('Training set', train_dataset.shape, train_labels.shape)\n",
    "    print('Validation set', valid_dataset.shape, valid_labels.shape)\n",
    "    print('Test set', test_dataset.shape, test_labels.shape)"
   ]
  },
  {
   "cell_type": "code",
   "execution_count": null,
   "metadata": {
    "collapsed": true
   },
   "outputs": [],
   "source": [
    "def plot_img(image, title):\n",
    "    plt.imshow(image)\n",
    "    plt.title(title)\n",
    "    plt.show()"
   ]
  },
  {
   "cell_type": "code",
   "execution_count": null,
   "metadata": {
    "collapsed": true
   },
   "outputs": [],
   "source": [
    "def conv_to_greyscale(image):\n",
    "    grey = np.zeros((image.shape[0], image.shape[1])) # init 2D numpy array\n",
    "    # get row number\n",
    "    def average(pixel):\n",
    "        return np.average(pixel)\n",
    "        #return 0.299*pixel[0] + 0.587*pixel[1] + 0.114*pixel[2]\n",
    "\n",
    "    for rownum in range(len(image)):\n",
    "        for colnum in range(len(image[rownum])):\n",
    "            grey[rownum][colnum] = average(image[rownum][colnum])\n",
    "    \n",
    "    return grey"
   ]
  },
  {
   "cell_type": "code",
   "execution_count": null,
   "metadata": {
    "collapsed": true
   },
   "outputs": [],
   "source": [
    "white_image_old = np.full((32, 32, 3), 1.)"
   ]
  },
  {
   "cell_type": "code",
   "execution_count": null,
   "metadata": {
    "collapsed": false
   },
   "outputs": [],
   "source": [
    "white_image = np.full((28, 28), 0)"
   ]
  },
  {
   "cell_type": "code",
   "execution_count": null,
   "metadata": {
    "collapsed": false
   },
   "outputs": [],
   "source": [
    "plot_img(white, 'white')\n",
    "plot_img(conv_to_greyscale(white), 'white')"
   ]
  },
  {
   "cell_type": "code",
   "execution_count": null,
   "metadata": {
    "collapsed": true
   },
   "outputs": [],
   "source": [
    "train_images = idx2numpy.convert_from_file('train-images-idx3-ubyte')\n",
    "train_label = idx2numpy.convert_from_file('train-labels-idx1-ubyte')\n",
    "\n",
    "test_images = idx2numpy.convert_from_file('t10k-images-idx3-ubyte')\n",
    "test_label = idx2numpy.convert_from_file('t10k-labels-idx1-ubyte')"
   ]
  },
  {
   "cell_type": "code",
   "execution_count": null,
   "metadata": {
    "collapsed": false
   },
   "outputs": [],
   "source": [
    "print(train_images.shape)\n",
    "print(train_label.shape)\n",
    "print(test_images.shape)\n",
    "print(test_label.shape)"
   ]
  },
  {
   "cell_type": "code",
   "execution_count": null,
   "metadata": {
    "collapsed": true
   },
   "outputs": [],
   "source": [
    "train = {}\n",
    "test = {}\n",
    "\n",
    "train['X'] = train_images\n",
    "train['y'] = train_label\n",
    "\n",
    "test['X'] = test_images\n",
    "test['y'] = test_label"
   ]
  },
  {
   "cell_type": "code",
   "execution_count": null,
   "metadata": {
    "collapsed": true
   },
   "outputs": [],
   "source": [
    "scipy.io.savemat('mnist_digits_train_28x28.mat', train)\n",
    "scipy.io.savemat('mnist_digits_test_28x28.mat', test)"
   ]
  },
  {
   "cell_type": "code",
   "execution_count": null,
   "metadata": {
    "collapsed": true
   },
   "outputs": [],
   "source": [
    "def random_insert_seq(lst, seq):\n",
    "    insert_locations = random.sample(xrange(len(lst) + len(seq)), len(seq))\n",
    "    inserts = dict(zip(insert_locations, seq))\n",
    "    input = iter(lst)\n",
    "    lst[:] = [inserts[pos] if pos in inserts else next(input)\n",
    "        for pos in xrange(len(lst) + len(seq))]"
   ]
  },
  {
   "cell_type": "code",
   "execution_count": null,
   "metadata": {
    "collapsed": true
   },
   "outputs": [],
   "source": [
    "# Assuming image have equal height and width\n",
    "def randomize_inputs(X_training, Y_labelling, no_of_white_images):\n",
    "    w = X_training.shape[1]\n",
    "    n = X_training.shape[0]\n",
    "    k = no_of_white_images\n",
    "    print ('w : ', w, ' n : ', n, ' k : ', k)\n",
    "    \n",
    "    Y_expand_label = np.zeros((n, 1, w), dtype=np.int)\n",
    "    for i in range(0,n):\n",
    "        Y_expand_label[i,:,:] = Y_labelling[i]\n",
    "        \n",
    "    data_expand = np.concatenate((X_training ,Y_expand_label), axis=1)\n",
    "    \n",
    "    assert (data_expand.shape[1] == w + 1)\n",
    "    \n",
    "    white_image_mat = np.zeros((k, w, w))\n",
    "    white_image_label = np.full((k, 1, w), None)\n",
    "    \n",
    "    white_images_big = np.concatenate((white_image_mat ,white_image_label), axis=1)\n",
    "    \n",
    "    assert (white_images_big.shape[1] == w + 1)\n",
    "    \n",
    "    data_big = np.concatenate((data_expand ,white_images_big))\n",
    "    \n",
    "    assert (data_big.shape[0] == n + k and data_big.shape[1] == w + 1 and data_big.shape[2] == w)\n",
    "    \n",
    "    np.random.shuffle(data_big)\n",
    "    assert (data_big.shape[0] == n + k and data_big.shape[1] == w + 1 and data_big.shape[2] == w)\n",
    "    \n",
    "    count = 0\n",
    "    list_of_outputs = [0., 1., 2., 3., 4., 5., 6., 7., 8., 9.]\n",
    "    for i in range(0, n + k):\n",
    "        if data_big[i][28][0] not in list_of_outputs :\n",
    "            count += 1\n",
    "\n",
    "    assert (count == k)\n",
    "    \n",
    "    Y_out = data_big[:,w][:,0]\n",
    "    X_out = np.delete(data_big, w, axis=1)\n",
    "    \n",
    "#     Y_out = np.zeros((n+k))\n",
    "#     for y in range(n+k) :\n",
    "#         Y_out[y] = (int(Y_o[y]))\n",
    "#     # Y_out.astype(int)\n",
    "    \n",
    "    return X_out, Y_out\n",
    "    "
   ]
  },
  {
   "cell_type": "code",
   "execution_count": null,
   "metadata": {
    "collapsed": true
   },
   "outputs": [],
   "source": [
    "def stack_matrices_horizontally(list_of_matrices):\n",
    "    return np.hstack((list_of_matrices))"
   ]
  },
  {
   "cell_type": "code",
   "execution_count": null,
   "metadata": {
    "collapsed": false
   },
   "outputs": [],
   "source": [
    "def stack_labels_horizontally(list_of_outputs):\n",
    "    possible_list = [0,1,2,3,4,5,6,7,8,9]\n",
    "    \n",
    "    outs = []\n",
    "    for i in list_of_outputs :\n",
    "        if i in possible_list :\n",
    "            outs.append(int(i))\n",
    "    \n",
    "    l = len(outs)\n",
    "#     print(l)\n",
    "#     print(outs)\n",
    "    stra = ''\n",
    "    for j in outs:\n",
    "        a = str(j)\n",
    "        stra += a\n",
    "        \n",
    "#     print(stra, '   length : ' , len(stra))\n",
    "    \n",
    "#     if '' not in stra:\n",
    "#         print ('contains empty string')\n",
    "#         try:\n",
    "#             int('')\n",
    "#         except ValueError:\n",
    "#             pass \n",
    "        \n",
    "    if len(stra) != 0:\n",
    "        final_out = (stra)\n",
    "        return final_out\n",
    "    else :\n",
    "        return (-1)\n",
    "    \n",
    "#     return final_out"
   ]
  },
  {
   "cell_type": "code",
   "execution_count": null,
   "metadata": {
    "collapsed": true
   },
   "outputs": [],
   "source": [
    "def random_list_length_generator(start_pt, end_pt, part_length, list_length) :\n",
    "    random_list = []\n",
    "    for i in range(list_length):\n",
    "        random_list.append(random.sample(range(start_pt, end_pt), part_length))\n",
    "        \n",
    "    return random_list"
   ]
  },
  {
   "cell_type": "code",
   "execution_count": null,
   "metadata": {
    "collapsed": true
   },
   "outputs": [],
   "source": [
    "def multiple_img_dataset_generator(X_dataset, Y_dataset, no_of_iamges_to_combine, length_of_new_dataset) :\n",
    "    assert (X_dataset.shape[0] == Y_dataset.shape[0])\n",
    "    \n",
    "    n = X_dataset.shape[0]\n",
    "    w = X_dataset.shape[1]        # Assuming image have same width and height\n",
    "    c = no_of_iamges_to_combine\n",
    "    k = length_of_new_dataset\n",
    "    \n",
    "    rand_list = random_list_length_generator(0, n, c, k)\n",
    "    \n",
    "    # To retain Zeros before the number, like 005 or 0670,\n",
    "    # Y_train_multi is made to store objects of type 'String'\n",
    "    X_new = np.zeros((k, w, c*w))\n",
    "    Y_new = np.zeros((k), dtype='|S6')\n",
    "    \n",
    "    for i in range(k):\n",
    "        rand_index = rand_list[i]\n",
    "\n",
    "        images_index = []\n",
    "        label_index = []\n",
    "        for r in rand_index :\n",
    "            images_index.append(X_dataset[r])\n",
    "            label_index.append(Y_dataset[r])\n",
    "\n",
    "        stacked_images = stack_matrices_horizontally(images_index)\n",
    "        stacked_labels = stack_labels_horizontally(label_index)\n",
    "\n",
    "        if (i % 5000 == 0) :\n",
    "            print (stacked_labels)\n",
    "\n",
    "    #     print('Images and labels converted into stacks of 5 successfully')\n",
    "    #     print('Converting into Matrix')\n",
    "\n",
    "        X_new[i] = stacked_images\n",
    "        Y_new[i] = stacked_labels\n",
    "    \n",
    "    print('Matrix Conversion Successful')\n",
    "    \n",
    "    return X_new, Y_new\n",
    "    "
   ]
  },
  {
   "cell_type": "code",
   "execution_count": null,
   "metadata": {
    "collapsed": false
   },
   "outputs": [],
   "source": [
    "X_train_new, Y_train_new = randomize_inputs(train_images, train_label, 20000)"
   ]
  },
  {
   "cell_type": "code",
   "execution_count": null,
   "metadata": {
    "collapsed": false
   },
   "outputs": [],
   "source": [
    "X_train_multi, Y_train_multi = multiple_img_dataset_generator(X_train_new, Y_train_new, 5, 50000)"
   ]
  },
  {
   "cell_type": "code",
   "execution_count": null,
   "metadata": {
    "collapsed": true
   },
   "outputs": [],
   "source": []
  },
  {
   "cell_type": "code",
   "execution_count": null,
   "metadata": {
    "collapsed": false
   },
   "outputs": [],
   "source": [
    "X_test_new, Y_test_new = randomize_inputs(test_images, test_label, 2500)"
   ]
  },
  {
   "cell_type": "code",
   "execution_count": null,
   "metadata": {
    "collapsed": false
   },
   "outputs": [],
   "source": [
    "X_test_multi, Y_test_multi = multiple_img_dataset_generator(X_test_new, Y_test_new, 5, 8000)"
   ]
  },
  {
   "cell_type": "code",
   "execution_count": null,
   "metadata": {
    "collapsed": false
   },
   "outputs": [],
   "source": [
    "print (X_train_new.shape, Y_train_new.shape)\n",
    "print (X_train_multi.shape, Y_train_multi.shape)\n",
    "print (X_test_new.shape, Y_test_new.shape)\n",
    "print (X_test_multi.shape, Y_test_multi.shape)"
   ]
  },
  {
   "cell_type": "code",
   "execution_count": null,
   "metadata": {
    "collapsed": true
   },
   "outputs": [],
   "source": [
    "train_multi = {}\n",
    "test_multi = {}\n",
    "\n",
    "train_multi['X'] = X_train_multi\n",
    "train_multi['y'] = Y_train_multi\n",
    "\n",
    "test_multi['X'] = X_test_multi\n",
    "test_multi['y'] = Y_test_multi"
   ]
  },
  {
   "cell_type": "code",
   "execution_count": null,
   "metadata": {
    "collapsed": true
   },
   "outputs": [],
   "source": [
    "scipy.io.savemat('mnist_multi_digits_train_28x140.mat', train)\n",
    "scipy.io.savemat('mnist_multi_digits_test_28x140.mat', test)"
   ]
  },
  {
   "cell_type": "code",
   "execution_count": null,
   "metadata": {
    "collapsed": true
   },
   "outputs": [],
   "source": []
  }
 ],
 "metadata": {
  "anaconda-cloud": {},
  "kernelspec": {
   "display_name": "Python [conda root]",
   "language": "python",
   "name": "conda-root-py"
  },
  "language_info": {
   "codemirror_mode": {
    "name": "ipython",
    "version": 2
   },
   "file_extension": ".py",
   "mimetype": "text/x-python",
   "name": "python",
   "nbconvert_exporter": "python",
   "pygments_lexer": "ipython2",
   "version": "2.7.12"
  }
 },
 "nbformat": 4,
 "nbformat_minor": 1
}
