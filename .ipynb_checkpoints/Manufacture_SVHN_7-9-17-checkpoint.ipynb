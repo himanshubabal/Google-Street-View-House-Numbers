{
 "cells": [
  {
   "cell_type": "code",
   "execution_count": 1,
   "metadata": {
    "collapsed": true
   },
   "outputs": [],
   "source": [
    "from IPython.display import display, Image\n",
    "%matplotlib inline"
   ]
  },
  {
   "cell_type": "code",
   "execution_count": 2,
   "metadata": {
    "collapsed": true
   },
   "outputs": [],
   "source": [
    "from __future__ import print_function\n",
    "from __future__ import division\n",
    "\n",
    "import os\n",
    "import math\n",
    "import h5py\n",
    "import tarfile\n",
    "import idx2numpy\n",
    "import scipy.misc\n",
    "import numpy as np\n",
    "import cPickle as pickle\n",
    "from PIL import Image\n",
    "from PIL import ImageDraw\n",
    "import matplotlib.pyplot as plt\n",
    "import matplotlib.patches as patches"
   ]
  },
  {
   "cell_type": "code",
   "execution_count": 3,
   "metadata": {},
   "outputs": [
    {
     "data": {
      "text/plain": [
       "'1.1.7'"
      ]
     },
     "execution_count": 3,
     "metadata": {},
     "output_type": "execute_result"
    }
   ],
   "source": [
    "import PIL\n",
    "PIL.VERSION"
   ]
  },
  {
   "cell_type": "code",
   "execution_count": 4,
   "metadata": {
    "collapsed": true
   },
   "outputs": [],
   "source": [
    "data_dir = '/Volumes/700_GB/Study/SVHN/SVHN-Full_Dataset/'\n",
    "# data_dir = ''\n",
    "svhn_dataset_location = data_dir"
   ]
  },
  {
   "cell_type": "code",
   "execution_count": 5,
   "metadata": {
    "collapsed": true
   },
   "outputs": [],
   "source": [
    "MAX_DIGITS = 10\n",
    "label_width = MAX_DIGITS + 1\n",
    "\n",
    "OUT_SHAPE = (64, 64)"
   ]
  },
  {
   "cell_type": "code",
   "execution_count": 6,
   "metadata": {
    "collapsed": true
   },
   "outputs": [],
   "source": [
    "# The DigitStructFile is just a wrapper around the h5py data.  It basically references \n",
    "#    inf:              The input h5 matlab file\n",
    "#    digitStructName   The h5 ref to all the file names\n",
    "#    digitStructBbox   The h5 ref to all struc data\n",
    "class DigitStructFile:\n",
    "    def __init__(self, inf):\n",
    "        self.inf = h5py.File(inf, 'r')\n",
    "        self.digitStructName = self.inf['digitStruct']['name']\n",
    "        self.digitStructBbox = self.inf['digitStruct']['bbox']\n",
    "\n",
    "# getName returns the 'name' string for for the n(th) digitStruct. \n",
    "    def getName(self,n):\n",
    "        return ''.join([chr(c[0]) for c in self.inf[self.digitStructName[n][0]].value])\n",
    "\n",
    "# bboxHelper handles the coding difference when there is exactly one bbox or an array of bbox. \n",
    "    def bboxHelper(self,attr):\n",
    "        if (len(attr) > 1):\n",
    "            attr = [self.inf[attr.value[j].item()].value[0][0] for j in range(len(attr))]\n",
    "        else:\n",
    "            attr = [attr.value[0][0]]\n",
    "        return attr\n",
    "\n",
    "# getBbox returns a dict of data for the n(th) bbox. \n",
    "    def getBbox(self,n):\n",
    "        bbox = {}\n",
    "        bb = self.digitStructBbox[n].item()\n",
    "        bbox['height'] = self.bboxHelper(self.inf[bb][\"height\"])\n",
    "        bbox['label'] = self.bboxHelper(self.inf[bb][\"label\"])\n",
    "        bbox['left'] = self.bboxHelper(self.inf[bb][\"left\"])\n",
    "        bbox['top'] = self.bboxHelper(self.inf[bb][\"top\"])\n",
    "        bbox['width'] = self.bboxHelper(self.inf[bb][\"width\"])\n",
    "        return bbox\n",
    "\n",
    "    def getDigitStructure(self,n):\n",
    "        s = self.getBbox(n)\n",
    "        s['name']=self.getName(n)\n",
    "        return s\n",
    "\n",
    "# getAllDigitStructure returns all the digitStruct from the input file.     \n",
    "    def getAllDigitStructure(self):\n",
    "        return [self.getDigitStructure(i) for i in range(len(self.digitStructName))]\n",
    "\n",
    "# Return a restructured version of the dataset (one structure by boxed digit).\n",
    "#\n",
    "#   Return a list of such dicts :\n",
    "#      'filename' : filename of the samples\n",
    "#      'boxes' : list of such dicts (one by digit) :\n",
    "#          'label' : 1 to 9 corresponding digits. 10 for digit '0' in image.\n",
    "#          'left', 'top' : position of bounding box\n",
    "#          'width', 'height' : dimension of bounding box\n",
    "#\n",
    "# Note: We may turn this to a generator, if memory issues arise.\n",
    "    def getAllDigitStructure_ByDigit(self):\n",
    "        pictDat = self.getAllDigitStructure()\n",
    "        result = []\n",
    "        structCnt = 1\n",
    "        for i in range(len(pictDat)):\n",
    "            item = { 'filename' : pictDat[i][\"name\"] }\n",
    "            figures = []\n",
    "            for j in range(len(pictDat[i]['height'])):\n",
    "                figure = {}\n",
    "                figure['height'] = pictDat[i]['height'][j]\n",
    "                figure['label']  = pictDat[i]['label'][j]\n",
    "                figure['left']   = pictDat[i]['left'][j]\n",
    "                figure['top']    = pictDat[i]['top'][j]\n",
    "                figure['width']  = pictDat[i]['width'][j]\n",
    "                figures.append(figure)\n",
    "            structCnt = structCnt + 1\n",
    "            item['boxes'] = figures\n",
    "            result.append(item)\n",
    "        return result"
   ]
  },
  {
   "cell_type": "code",
   "execution_count": 7,
   "metadata": {},
   "outputs": [],
   "source": [
    "struct_file = svhn_dataset_location + 'SVHN_data_struct.pkl'\n",
    "    \n",
    "if os.path.exists(struct_file) :\n",
    "#     hdf = h5py.File(struct_file, 'r')\n",
    "\n",
    "#     # Get the data\n",
    "#     test_data = hdf['test_data'][:]\n",
    "#     train_data = hdf['train_data'][:]\n",
    "#     extra_data = hdf['extra_data'][:]\n",
    "    with open(struct_file, 'rb') as f:\n",
    "        save = pickle.load(f)\n",
    "        test_data = save['test_data']\n",
    "        train_data = save['train_data']\n",
    "        extra_data = save['extra_data']\n",
    "    del save\n",
    "\n",
    "             \n",
    "else :\n",
    "    fin = os.path.join(svhn_dataset_location + 'test', 'digitStruct.mat')\n",
    "    dsf = DigitStructFile(fin)\n",
    "    test_data = dsf.getAllDigitStructure_ByDigit()\n",
    "\n",
    "    fin = os.path.join(svhn_dataset_location + 'train', 'digitStruct.mat')\n",
    "    dsf = DigitStructFile(fin)\n",
    "    train_data = dsf.getAllDigitStructure_ByDigit()\n",
    "\n",
    "    fin = os.path.join(svhn_dataset_location + 'extra', 'digitStruct.mat')\n",
    "    dsf = DigitStructFile(fin)\n",
    "    extra_data = dsf.getAllDigitStructure_ByDigit()\n",
    "    # This data point is corrupted\n",
    "    del extra_data[118847]\n",
    "    \n",
    "#     hdf = h5py.File(struct_file, 'w')\n",
    "#     with hdf as hf:\n",
    "#         hf.create_dataset(\"test_data\",  data=test_data)\n",
    "#         hf.create_dataset(\"train_data\",  data=train_data)\n",
    "#         hf.create_dataset(\"extra_data\",  data=extra_data)\n",
    "#     hdf.close()\n",
    "    \n",
    "    with open(struct_file, 'wb') as f:\n",
    "        data = {}\n",
    "        data['test_data'] = test_data\n",
    "        data['train_data'] = train_data\n",
    "        data['extra_data'] = extra_data\n",
    "        pickle.dump(data, f, pickle.HIGHEST_PROTOCOL)"
   ]
  },
  {
   "cell_type": "code",
   "execution_count": 23,
   "metadata": {
    "collapsed": true
   },
   "outputs": [],
   "source": [
    "with open(struct_file, 'wb') as f:\n",
    "    data = {}\n",
    "    data['test_data'] = test_data\n",
    "    data['train_data'] = train_data\n",
    "    data['extra_data'] = extra_data\n",
    "    pickle.dump(data, f, pickle.HIGHEST_PROTOCOL)"
   ]
  },
  {
   "cell_type": "code",
   "execution_count": 8,
   "metadata": {},
   "outputs": [],
   "source": [
    "def get_plot_full_img_with_bb(image, bbox_list):\n",
    "    fig,ax = plt.subplots(1)\n",
    "    ax.imshow(image)\n",
    "    \n",
    "    draw_rectangles(ax, bbox_list)\n",
    "    plt.show()\n",
    "    \n",
    "\n",
    "def draw_rectangles(ax, bbox_list):\n",
    "    blank_box = [0, 0, 5, 5]\n",
    "    \n",
    "    for i in range(MAX_DIGITS):\n",
    "        bbox = list()\n",
    "        bbox.append(bbox_list[4*i+0])\n",
    "        bbox.append(bbox_list[4*i+1])\n",
    "        bbox.append(bbox_list[4*i+2])\n",
    "        bbox.append(bbox_list[4*i+3])\n",
    "\n",
    "        # Do not draw bounding box for blank image\n",
    "        if bbox != blank_box:\n",
    "            x1, y1, x2, y2 = bbox[0], bbox[1], bbox[2], bbox[3]\n",
    "\n",
    "            rect = patches.Rectangle((x1, y1),x2-x1,y2-y1,linewidth=1,edgecolor='y',facecolor='none')\n",
    "            ax.add_patch(rect)"
   ]
  },
  {
   "cell_type": "code",
   "execution_count": 9,
   "metadata": {
    "collapsed": true
   },
   "outputs": [],
   "source": [
    "def normalize_image(img_resize):\n",
    "    # Mean and Std Deviation of Image\n",
    "    mean = np.mean(img_resize, dtype='float32')\n",
    "    std = np.std(img_resize, dtype='float32', ddof=1)\n",
    "    \n",
    "    if std < 1e-4:\n",
    "        std = 1.0\n",
    "    # Normalizing the image\n",
    "    img_resize = (img_resize - mean)/std\n",
    "    \n",
    "    return(img_resize)\n",
    "\n",
    "\n",
    "def process_image(img):\n",
    "    # Resizing Image to be of 32x96x3 dimensions\n",
    "    img_resize = scipy.misc.imresize(img, OUT_SHAPE)\n",
    "    # Converting A x B x 3 -> A x B x 1\n",
    "    img_resize = np.dot(img_resize, [[0.2989],[0.5870],[0.1140]])\n",
    "    \n",
    "    img_resize = normalize_image(img_resize)\n",
    "    \n",
    "    # 64 x 64 x 1 -> 64 x 64\n",
    "    img_resize = img_resize.reshape(img_resize.shape[:2])\n",
    "    \n",
    "    return img_resize"
   ]
  },
  {
   "cell_type": "code",
   "execution_count": 10,
   "metadata": {
    "collapsed": true
   },
   "outputs": [],
   "source": [
    "def get_label(img_data):\n",
    "    num_images = len(img_data['boxes'])\n",
    "    new_label = np.empty((MAX_DIGITS+1), dtype='int')\n",
    "    new_label[0] = num_images\n",
    "    for i in range(num_images+1, MAX_DIGITS+1):\n",
    "        new_label[i] = 10 \n",
    "    \n",
    "    for i in range(num_images):\n",
    "        new_label[i+1] = img_data['boxes'][i]['label']\n",
    "    \n",
    "    return new_label"
   ]
  },
  {
   "cell_type": "code",
   "execution_count": 11,
   "metadata": {
    "collapsed": true
   },
   "outputs": [],
   "source": [
    "def get_bbox(img_data):\n",
    "    num_images = len(img_data['boxes'])\n",
    "    new_box = np.empty((MAX_DIGITS*4), dtype='int')\n",
    "\n",
    "    for i in range(num_images):\n",
    "        new_box[4*i  ] = img_data['boxes'][i]['left']\n",
    "        new_box[4*i+1] = img_data['boxes'][i]['top']\n",
    "        new_box[4*i+2] = img_data['boxes'][i]['width'] + new_box[4*i]\n",
    "        new_box[4*i+3] = img_data['boxes'][i]['height'] + new_box[4*i+1]\n",
    "        \n",
    "    # Assining empty spaces bbox (0,0), (5,5)\n",
    "    for i in range(num_images, MAX_DIGITS):\n",
    "        new_box[4*i  ] = 0\n",
    "        new_box[4*i+1] = 0\n",
    "        new_box[4*i+2] = 5\n",
    "        new_box[4*i+3] = 5\n",
    "        \n",
    "    return new_box"
   ]
  },
  {
   "cell_type": "code",
   "execution_count": 12,
   "metadata": {},
   "outputs": [],
   "source": [
    "def get_new_bbox(bbox, old_shape, new_shape):\n",
    "    Ry = (new_shape[0] * 1.00)/old_shape[0]\n",
    "    Rx = (new_shape[1] * 1.00)/old_shape[1]\n",
    "    \n",
    "    new_box = np.empty((MAX_DIGITS*4), dtype='int')\n",
    "    for i in range(MAX_DIGITS):\n",
    "        new_box[4*i  ] = int(Rx * bbox[4*i  ])\n",
    "        new_box[4*i+1] = int(Ry * bbox[4*i+1])\n",
    "        new_box[4*i+2] = int(Rx * bbox[4*i+2])\n",
    "        new_box[4*i+3] = int(Ry * bbox[4*i+3])\n",
    "\n",
    "    return(new_box)"
   ]
  },
  {
   "cell_type": "code",
   "execution_count": 13,
   "metadata": {
    "collapsed": true
   },
   "outputs": [],
   "source": [
    "def pipeline(index, folder_name, data):\n",
    "    image_data = data[index]\n",
    "    image_name = svhn_dataset_location + folder_name + '/' + image_data['filename']\n",
    "\n",
    "    img = Image.open(image_name)\n",
    "    img = np.asarray(img, dtype=\"float32\")\n",
    "    original_shape = img.shape[:2]\n",
    "\n",
    "    img_resize = process_image(img)\n",
    "    bounding_box = get_new_bbox(get_bbox(image_data), original_shape, img_resize.shape)\n",
    "    label = get_label(image_data)\n",
    "\n",
    "    return(img_resize, bounding_box, label)"
   ]
  },
  {
   "cell_type": "code",
   "execution_count": 14,
   "metadata": {
    "collapsed": true
   },
   "outputs": [],
   "source": [
    "def pipeline_primary(data, folder_name):\n",
    "    images = np.ndarray([len(data), OUT_SHAPE[0], OUT_SHAPE[1]], dtype='float32')\n",
    "    labels = np.ndarray([len(data), MAX_DIGITS+1], dtype='int32')\n",
    "    bboxes = np.ndarray([len(data), MAX_DIGITS*4], dtype='int32')\n",
    "\n",
    "    for i in range(len(data)) :\n",
    "        img_resize, bounding_box, label = pipeline(i, folder_name, data)\n",
    "        images[i] = img_resize\n",
    "        labels[i] = label\n",
    "        bboxes[i] = bounding_box\n",
    "\n",
    "        if i % (len(data)//10) == 0:\n",
    "            print((i/len(data))*100)\n",
    "    \n",
    "    return(images, labels, bboxes)"
   ]
  },
  {
   "cell_type": "code",
   "execution_count": 15,
   "metadata": {},
   "outputs": [
    {
     "data": {
      "image/png": "[encoded data removed]",
      "text/plain": [
       "<matplotlib.figure.Figure at 0x105dfdf90>"
      ]
     },
     "metadata": {},
     "output_type": "display_data"
    },
    {
     "name": "stdout",
     "output_type": "stream",
     "text": [
      "[ 2  1  4 10 10 10 10 10 10 10 10]\n"
     ]
    }
   ],
   "source": [
    "img_resize, bounding_box, label = pipeline(94, 'test', test_data)\n",
    "get_plot_full_img_with_bb(img_resize, bounding_box)\n",
    "print(label)"
   ]
  },
  {
   "cell_type": "code",
   "execution_count": null,
   "metadata": {
    "collapsed": true
   },
   "outputs": [],
   "source": [
    "test_images,  test_labels,  test_boxes  = pipeline_primary(test_data,  'test' )\n",
    "train_images, train_labels, train_boxes = pipeline_primary(train_data, 'train')\n",
    "extra_images, extra_labels, extra_boxes = pipeline_primary(extra_data, 'extra')"
   ]
  },
  {
   "cell_type": "code",
   "execution_count": 48,
   "metadata": {
    "collapsed": true
   },
   "outputs": [],
   "source": [
    "np.save(svhn_dataset_location + 'triaaall', test_labels)"
   ]
  },
  {
   "cell_type": "code",
   "execution_count": 50,
   "metadata": {},
   "outputs": [
    {
     "data": {
      "text/plain": [
       "(13068, 11)"
      ]
     },
     "execution_count": 50,
     "metadata": {},
     "output_type": "execute_result"
    }
   ],
   "source": [
    "test_labels.shape"
   ]
  },
  {
   "cell_type": "code",
   "execution_count": 49,
   "metadata": {},
   "outputs": [
    {
     "data": {
      "text/plain": [
       "'/Volumes/700_GB/Study/SVHN/SVHN-Full_Dataset/'"
      ]
     },
     "execution_count": 49,
     "metadata": {},
     "output_type": "execute_result"
    }
   ],
   "source": [
    "svhn_dataset_location"
   ]
  },
  {
   "cell_type": "code",
   "execution_count": 30,
   "metadata": {
    "collapsed": true
   },
   "outputs": [],
   "source": [
    "# saves images, labels, bboxes\n",
    "def np_save(save_location, name, images, labels, bboxes):\n",
    "    np.save(save_location + name + '_images', images)\n",
    "    np.save(save_location + name + '_labels', labels)\n",
    "    np.save(save_location + name + '_bboxes', bboxes)\n",
    "\n",
    "# load images, labels, bboxes\n",
    "def np_load(save_location, name):\n",
    "    images = np.load(save_location + name + '_images.npy')\n",
    "    labels = np.load(save_location + name + '_labels.npy')\n",
    "    bboxes = np.load(save_location + name + '_bboxes.npy')\n",
    "    \n",
    "    return(images, labels, bboxes)"
   ]
  },
  {
   "cell_type": "code",
   "execution_count": 41,
   "metadata": {
    "collapsed": true
   },
   "outputs": [],
   "source": [
    "def unison_shuffled_copies(a, b, c):\n",
    "    assert len(a) == len(b)\n",
    "    assert len(b) == len(c)\n",
    "    p = np.random.permutation(len(a))\n",
    "    return (a[p], b[p], c[p])"
   ]
  },
  {
   "cell_type": "code",
   "execution_count": 38,
   "metadata": {
    "collapsed": true
   },
   "outputs": [],
   "source": [
    "np.save(svhn_dataset_location + 'train_images', train_images)\n",
    "np.save(svhn_dataset_location + 'train_labels', train_labels)\n",
    "np.save(svhn_dataset_location + 'train_bboxes', train_bboxes)\n",
    "\n",
    "np.save(svhn_dataset_location + 'test_images', test_images)\n",
    "np.save(svhn_dataset_location + 'test_labels', test_labels)\n",
    "np.save(svhn_dataset_location + 'test_bboxes', test_bboxes)\n",
    "\n",
    "np.save(svhn_dataset_location + 'extra_images', extra_images)\n",
    "np.save(svhn_dataset_location + 'extra_labels', extra_labels)\n",
    "np.save(svhn_dataset_location + 'extra_bboxes', extra_bboxes)"
   ]
  },
  {
   "cell_type": "code",
   "execution_count": 26,
   "metadata": {},
   "outputs": [],
   "source": []
  },
  {
   "cell_type": "code",
   "execution_count": 28,
   "metadata": {
    "collapsed": true
   },
   "outputs": [],
   "source": [
    "train_images = np.load(svhn_dataset_location + 'train_images.npy')\n",
    "train_labels = np.load(svhn_dataset_location + 'train_labels.npy')\n",
    "train_bboxes = np.load(svhn_dataset_location + 'train_bboxes.npy')\n",
    "\n",
    "test_images = np.load(svhn_dataset_location + 'test_images.npy')\n",
    "test_labels = np.load(svhn_dataset_location + 'test_labels.npy')\n",
    "test_bboxes = np.load(svhn_dataset_location + 'test_bboxes.npy')\n",
    "\n",
    "# extra_images = np.load(svhn_dataset_location + 'extra_images.npy')\n",
    "# extra_labels = np.load(svhn_dataset_location + 'extra_labels.npy')\n",
    "# extra_bboxes = np.load(svhn_dataset_location + 'extra_bboxes.npy')"
   ]
  },
  {
   "cell_type": "code",
   "execution_count": 27,
   "metadata": {
    "collapsed": true
   },
   "outputs": [],
   "source": [
    "extra_bboxes = extra_boxes"
   ]
  },
  {
   "cell_type": "code",
   "execution_count": 29,
   "metadata": {},
   "outputs": [
    {
     "name": "stdout",
     "output_type": "stream",
     "text": [
      "SVHN Datasets ready in SVHN_multi.hdf5\n"
     ]
    }
   ],
   "source": [
    "hdf_file = svhn_dataset_location + 'SVHN_pre.hdf5'\n",
    "\n",
    "hdf = h5py.File(hdf_file, 'w')\n",
    "\n",
    "with hdf as hf:\n",
    "    hf.create_dataset(\"train_images\",  data=train_images)\n",
    "    hf.create_dataset(\"train_labels\",  data=train_labels)\n",
    "    hf.create_dataset(\"train_bboxes\",  data=train_bboxes)\n",
    "    \n",
    "    hf.create_dataset(\"extra_images\",  data=extra_images)\n",
    "    hf.create_dataset(\"extra_labels\",  data=extra_labels)\n",
    "    hf.create_dataset(\"extra_bboxes\",  data=extra_bboxes)\n",
    "    \n",
    "    hf.create_dataset(\"test_bboxes\",  data=test_bboxes)\n",
    "    hf.create_dataset(\"test_images\",  data=test_images)\n",
    "    hf.create_dataset(\"test_labels\",  data=test_labels)\n",
    "    \n",
    "print('SVHN Datasets ready in SVHN_multi.hdf5')"
   ]
  },
  {
   "cell_type": "code",
   "execution_count": null,
   "metadata": {
    "collapsed": true
   },
   "outputs": [],
   "source": []
  },
  {
   "cell_type": "code",
   "execution_count": 32,
   "metadata": {},
   "outputs": [
    {
     "name": "stdout",
     "output_type": "stream",
     "text": [
      "(33402, 64, 64) (33402, 11) (33402, 40)\n",
      "(13068, 64, 64) (13068, 11) (13068, 40)\n",
      "(202352, 64, 64) (202352, 11) (202352, 40)\n"
     ]
    }
   ],
   "source": [
    "print(train_images.shape, train_labels.shape, train_bboxes.shape)\n",
    "print(test_images.shape , test_labels.shape , test_bboxes.shape )\n",
    "print(extra_images.shape, extra_labels.shape, extra_bboxes.shape)"
   ]
  },
  {
   "cell_type": "code",
   "execution_count": 34,
   "metadata": {},
   "outputs": [],
   "source": [
    "combined_images = np.vstack((train_images, extra_images))"
   ]
  },
  {
   "cell_type": "code",
   "execution_count": 38,
   "metadata": {},
   "outputs": [
    {
     "name": "stdout",
     "output_type": "stream",
     "text": [
      "(235754, 64, 64) (235754, 11) (235754, 40)\n"
     ]
    }
   ],
   "source": [
    "combined_labels = np.vstack((train_labels, extra_labels))\n",
    "combined_bboxes = np.vstack((train_bboxes, extra_bboxes))\n",
    "\n",
    "print(combined_images.shape, combined_labels.shape, combined_bboxes.shape)"
   ]
  },
  {
   "cell_type": "code",
   "execution_count": 42,
   "metadata": {},
   "outputs": [],
   "source": [
    "# Shuffling\n",
    "combined_images, combined_labels, combined_bboxes = unison_shuffled_copies(combined_images, combined_labels, combined_bboxes)"
   ]
  },
  {
   "cell_type": "code",
   "execution_count": null,
   "metadata": {
    "collapsed": true
   },
   "outputs": [],
   "source": []
  },
  {
   "cell_type": "code",
   "execution_count": 45,
   "metadata": {
    "collapsed": true
   },
   "outputs": [],
   "source": [
    "valid_inputs = 5754\n",
    "train_images = combined_images[:len(combined_labels)-valid_inputs]\n",
    "train_labels = combined_labels[:len(combined_labels)-valid_inputs]\n",
    "train_bboxes = combined_bboxes[:len(combined_labels)-valid_inputs]\n",
    "\n",
    "valid_images = combined_images[valid_inputs:]\n",
    "valid_labels = combined_labels[valid_inputs:]\n",
    "valid_bboxes = combined_bboxes[valid_inputs:]"
   ]
  },
  {
   "cell_type": "code",
   "execution_count": 46,
   "metadata": {},
   "outputs": [
    {
     "name": "stdout",
     "output_type": "stream",
     "text": [
      "(230000, 64, 64) (230000, 11) (230000, 40)\n",
      "(13068, 64, 64) (13068, 11) (13068, 40)\n",
      "(230000, 64, 64) (230000, 11) (230000, 40)\n"
     ]
    }
   ],
   "source": [
    "print(train_images.shape, train_labels.shape, train_bboxes.shape)\n",
    "print(test_images.shape , test_labels.shape , test_bboxes.shape )\n",
    "print(valid_images.shape, valid_labels.shape, valid_bboxes.shape)"
   ]
  },
  {
   "cell_type": "code",
   "execution_count": null,
   "metadata": {
    "collapsed": true
   },
   "outputs": [],
   "source": [
    "del combined_images, combined_labels, combined_bboxes"
   ]
  },
  {
   "cell_type": "code",
   "execution_count": 47,
   "metadata": {},
   "outputs": [
    {
     "name": "stdout",
     "output_type": "stream",
     "text": [
      "SVHN Datasets ready in SVHN_multi.hdf5\n"
     ]
    }
   ],
   "source": [
    "hdf_file = svhn_dataset_location + 'SVHN.hdf5'\n",
    "\n",
    "hdf = h5py.File(hdf_file, 'w')\n",
    "\n",
    "with hdf as hf:\n",
    "    hf.create_dataset(\"train_images\",  data=train_images)\n",
    "    hf.create_dataset(\"train_labels\",  data=train_labels)\n",
    "    hf.create_dataset(\"train_bboxes\",  data=train_bboxes)\n",
    "    \n",
    "    hf.create_dataset(\"valid_images\",  data=valid_images)\n",
    "    hf.create_dataset(\"valid_labels\",  data=valid_labels)\n",
    "    hf.create_dataset(\"valid_bboxes\",  data=valid_bboxes)\n",
    "    \n",
    "    hf.create_dataset(\"test_bboxes\",  data=test_bboxes)\n",
    "    hf.create_dataset(\"test_images\",  data=test_images)\n",
    "    hf.create_dataset(\"test_labels\",  data=test_labels)\n",
    "    \n",
    "print('SVHN Datasets ready in SVHN_multi.hdf5')"
   ]
  },
  {
   "cell_type": "code",
   "execution_count": null,
   "metadata": {
    "collapsed": true
   },
   "outputs": [],
   "source": []
  },
  {
   "cell_type": "code",
   "execution_count": null,
   "metadata": {
    "collapsed": true
   },
   "outputs": [],
   "source": []
  }
 ],
 "metadata": {
  "anaconda-cloud": {},
  "kernelspec": {
   "display_name": "Python 2",
   "language": "python",
   "name": "python2"
  },
  "language_info": {
   "codemirror_mode": {
    "name": "ipython",
    "version": 2
   },
   "file_extension": ".py",
   "mimetype": "text/x-python",
   "name": "python",
   "nbconvert_exporter": "python",
   "pygments_lexer": "ipython2",
   "version": "2.7.13"
  }
 },
 "nbformat": 4,
 "nbformat_minor": 1
}
