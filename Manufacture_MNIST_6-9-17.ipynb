{
 "cells": [
  {
   "cell_type": "code",
   "execution_count": 1,
   "metadata": {
    "collapsed": true
   },
   "outputs": [],
   "source": [
    "from IPython.display import display, Image\n",
    "%matplotlib inline"
   ]
  },
  {
   "cell_type": "code",
   "execution_count": 2,
   "metadata": {
    "collapsed": true
   },
   "outputs": [],
   "source": [
    "from __future__ import print_function\n",
    "from __future__ import division\n",
    "\n",
    "import os\n",
    "import math\n",
    "import idx2numpy\n",
    "import scipy.misc\n",
    "import numpy as np\n",
    "from PIL import Image\n",
    "from PIL import ImageDraw\n",
    "import matplotlib.pyplot as plt"
   ]
  },
  {
   "cell_type": "code",
   "execution_count": 3,
   "metadata": {
    "collapsed": true
   },
   "outputs": [],
   "source": [
    "# data_dir = '/Volumes/700_GB/Study/SVHN/P5_Digit_Recognition/'\n",
    "data_dir = ''\n",
    "mnist_dataset_location = data_dir + 'datasets/MNIST/'"
   ]
  },
  {
   "cell_type": "code",
   "execution_count": 4,
   "metadata": {},
   "outputs": [],
   "source": [
    "# Get Random Probablistic distribution\n",
    "# for number of digits to keep in manufactured data\n",
    "# numbers and their probablities are written\n",
    "#\n",
    "# @param : required_numbers\n",
    "#          how many numbers do ypu require\n",
    "def get_rand_dist(required_numbers):\n",
    "    elements =     [1,    2,    3,    4,    5,    6,    7,    8,    9,    10  ]\n",
    "    probabilites = [0.10, 0.10, 0.15, 0.25, 0.15, 0.06, 0.07, 0.06, 0.03, 0.03]\n",
    "\n",
    "    return(np.random.choice(elements, required_numbers, p=probabilites))"
   ]
  },
  {
   "cell_type": "code",
   "execution_count": 5,
   "metadata": {},
   "outputs": [
    {
     "data": {
      "text/plain": [
       "<Container object of 10 artists>"
      ]
     },
     "execution_count": 5,
     "metadata": {},
     "output_type": "execute_result"
    },
    {
     "data": {
      "image/png": "[encoded data removed]",
      "text/plain": [
       "<matplotlib.figure.Figure at 0x104719510>"
      ]
     },
     "metadata": {},
     "output_type": "display_data"
    }
   ],
   "source": [
    "elements =     [1,    2,    3,    4,    5,    6,    7,    8,    9,    10  ]\n",
    "probabilites = [0.10, 0.10, 0.15, 0.25, 0.15, 0.06, 0.07, 0.06, 0.03, 0.03]\n",
    "plt.bar(elements, probabilites)"
   ]
  },
  {
   "cell_type": "code",
   "execution_count": 6,
   "metadata": {},
   "outputs": [],
   "source": [
    "# Possible ways data could look\n",
    "# 1. (50%)\n",
    "#   - - - - - - - -\n",
    "#\n",
    "# 2. (15%)\n",
    "#   - - - - -\n",
    "#    - - - -\n",
    "#\n",
    "# 3. (15%)\n",
    "#   -\n",
    "#     -\n",
    "#       -\n",
    "#         -\n",
    "#\n",
    "# 4. (10%)\n",
    "#         -\n",
    "#       -\n",
    "#     -\n",
    "#   -\n",
    "#\n",
    "def get_rand_style():\n",
    "    elements =     [1,    2,    3,    4   ]\n",
    "    probabilites = [0.60, 0.15, 0.15, 0.10]\n",
    "\n",
    "    return(np.random.choice(elements, 1, p=probabilites)[0])"
   ]
  },
  {
   "cell_type": "code",
   "execution_count": 8,
   "metadata": {
    "collapsed": true
   },
   "outputs": [],
   "source": [
    "MAX_DIGITS = 10\n",
    "label_width = MAX_DIGITS + 1"
   ]
  },
  {
   "cell_type": "code",
   "execution_count": 9,
   "metadata": {
    "collapsed": true
   },
   "outputs": [],
   "source": [
    "OUT_SHAPE = (64, 64)"
   ]
  },
  {
   "cell_type": "code",
   "execution_count": 10,
   "metadata": {
    "collapsed": true
   },
   "outputs": [],
   "source": [
    "# Pad images with randomly chosen padding from [4,6,8,10,12,14]\n",
    "# Image will be padded with additional 0\n",
    "# Return padded image as well as padding\n",
    "def add_random_padding(np_image_list):\n",
    "    possible_paddings = [4,8,12,16,20,24,28]\n",
    "    padding = np.random.choice(possible_paddings)\n",
    "    \n",
    "    padded_images = []\n",
    "    for image in np_image_list:\n",
    "        padded_images.append(np.pad(image, padding, 'constant', constant_values=(0,0)))\n",
    "    return(padding ,padded_images)"
   ]
  },
  {
   "cell_type": "code",
   "execution_count": 12,
   "metadata": {},
   "outputs": [],
   "source": [
    "# Label 10 will mean empty space or no number\n",
    "def place_images(images_list, padding, label_list, img_style, original_size):\n",
    "    num_images = len(images_list)\n",
    "    bbox_list = list()\n",
    "    \n",
    "    new_image = np.zeros((32, 32))\n",
    "    new_label = np.empty((MAX_DIGITS+1), dtype='int')\n",
    "    new_label[0] = num_images\n",
    "    for i in range(num_images+1, label_width):\n",
    "        new_label[i] = 10\n",
    "    \n",
    "    white_image = np.zeros(images_list[0].shape)\n",
    "    p = padding\n",
    "    l = original_size[0]\n",
    "    \n",
    "    if num_images == 1:\n",
    "            new_image = images_list[0]\n",
    "            new_label[1] = label_list[0]\n",
    "    \n",
    "            bbox_list.append([(padding, padding), (padding + original_size[0], padding + original_size[1])])\n",
    "            \n",
    "    else :\n",
    "        if img_style == 1:\n",
    "            # Style : - - - - - -\n",
    "            new_image = np.hstack(images_list)\n",
    "            \n",
    "            # assuming square image for bounding boxes\n",
    "            for i in range(num_images):\n",
    "                k = i + 1\n",
    "                new_label[k] = label_list[i]\n",
    "                bbox_list.append([((k-1)*l+(2*k-1)*p, p), ( k*l+(2*k-1)*p, l+p)])\n",
    "            \n",
    "\n",
    "        elif img_style == 2:\n",
    "            # Style : - - - -\n",
    "            #          - - -\n",
    "            images_above = int(math.ceil(num_images/2))\n",
    "            images_below = num_images - images_above\n",
    "            \n",
    "            if images_above == images_below:\n",
    "                im_1 = np.hstack(images_list[:images_above])\n",
    "                im_2 = np.hstack(images_list[images_above:])\n",
    "                        \n",
    "            else:        \n",
    "                im_1 = np.hstack(images_list[:images_above])\n",
    "                new_list = images_list[images_above:]\n",
    "                new_list.append(white_image)\n",
    "                im_2 = np.hstack(new_list)\n",
    "            \n",
    "            new_image = np.vstack([im_1, im_2])\n",
    "            \n",
    "             # assuming square image for bounding boxes\n",
    "            for i in range(images_above):\n",
    "                k = i + 1\n",
    "                bbox_list.append([((k-1)*l+(2*k-1)*p, p), (k*l+(2*k-1)*p, l+p)])\n",
    "\n",
    "            # assuming square image for bounding boxes\n",
    "            for i in range(images_below):\n",
    "                k = i + 1\n",
    "                bbox_list.append([((k-1)*l+(2*k-1)*p, l+3*p), ( k*l+(2*k-1)*p, 2*l+3*p)])\n",
    "                \n",
    "            for i in range(num_images):\n",
    "                k = i + 1\n",
    "                new_label[k] = label_list[i]\n",
    "                \n",
    "            \n",
    "        elif img_style == 3:\n",
    "            # Style : inclining staircase\n",
    "            white_image = np.zeros(images_list[0].shape)\n",
    "            \n",
    "            v_stack_list = []\n",
    "            for k in range(num_images):\n",
    "                h_stack_list = [white_image] * num_images\n",
    "                index = num_images - (k + 1)\n",
    "                h_stack_list[index] = images_list[-k-1]\n",
    "                h_stack = np.hstack(h_stack_list)\n",
    "                v_stack_list.append(h_stack)\n",
    "            \n",
    "            new_image = np.vstack(v_stack_list)\n",
    "            \n",
    "            # assuming square image for bounding boxes\n",
    "            for i in range(num_images):\n",
    "                k = i + 1\n",
    "                new_label[k] = label_list[i]\n",
    "                a, b = ((k    *l+(2*k-1)*p, num_images*(l+2*p) - (k    *l+(2*k-1)*p)))\n",
    "                c, d = (((k-1)*l+(2*k-1)*p, num_images*(l+2*p) - ((k-1)*l+(2*k-1)*p)))\n",
    "                bbox_list.append([(a, b), (c, d)])\n",
    "            \n",
    "        else:\n",
    "            # Style : declining staircase\n",
    "            white_image = np.zeros(images_list[0].shape)\n",
    "            \n",
    "            v_stack_list = []\n",
    "            for k in range(num_images):\n",
    "                h_stack_list = [white_image] * num_images\n",
    "                h_stack_list[k] = images_list[k]\n",
    "                h_stack = np.hstack(h_stack_list)\n",
    "                v_stack_list.append(h_stack)\n",
    "            \n",
    "            new_image = np.vstack(v_stack_list)\n",
    "            \n",
    "            # assuming square image for bounding boxes\n",
    "            for i in range(num_images):\n",
    "                k = i + 1\n",
    "                new_label[k] = label_list[i]\n",
    "                a, b = (( k   *l+(2*k-1)*p,  k   *l+(2*k-1)*p))\n",
    "                c, d = (((k-1)*l+(2*k-1)*p, (k-1)*l+(2*k-1)*p))\n",
    "                bbox_list.append([(a, b), (c, d)])\n",
    "            \n",
    "    return(new_image, bbox_list, new_label)"
   ]
  },
  {
   "cell_type": "code",
   "execution_count": 14,
   "metadata": {
    "collapsed": true
   },
   "outputs": [],
   "source": [
    "def get_new_bbox(bbox, old_shape, new_shape):\n",
    "    Ry = (new_shape[0] * 1.00)/old_shape[0]\n",
    "    Rx = (new_shape[1] * 1.00)/old_shape[1]\n",
    "    \n",
    "    new_box = []\n",
    "    for box in bbox:\n",
    "        x1, y1 = (int(Rx * box[0][0]), int(Ry * box[0][1]))\n",
    "        x2, y2 = (int(Rx * box[1][0]), int(Ry * box[1][1]))\n",
    "        new_box.append([(x1, y1), (x2, y2)])\n",
    "        \n",
    "    return(new_box)"
   ]
  },
  {
   "cell_type": "code",
   "execution_count": 15,
   "metadata": {
    "collapsed": true
   },
   "outputs": [],
   "source": [
    "def transform_box_to_np(bbox):\n",
    "    new_box = np.empty((4*MAX_DIGITS), dtype='int')\n",
    "    for i in range(len(bbox)):\n",
    "        new_box[4*i  ] = bbox[i][0][0]\n",
    "        new_box[4*i+1] = bbox[i][0][1]\n",
    "        new_box[4*i+2] = bbox[i][1][0]\n",
    "        new_box[4*i+3] = bbox[i][1][1]\n",
    "        \n",
    "    # Assining empty spaces bbox (0,0), (5,5)\n",
    "    for i in range(len(bbox), MAX_DIGITS):\n",
    "        new_box[4*i  ] = 0\n",
    "        new_box[4*i+1] = 0\n",
    "        new_box[4*i+2] = 5\n",
    "        new_box[4*i+3] = 5\n",
    "        \n",
    "    return new_box"
   ]
  },
  {
   "cell_type": "code",
   "execution_count": 16,
   "metadata": {
    "collapsed": true
   },
   "outputs": [],
   "source": [
    "def pipeline_secondary(np_images, np_labels, rand_index_list, output_shape):\n",
    "    input_shape = np_images[0].shape\n",
    "    images_list, labels_list = [], []\n",
    "\n",
    "    for rand in rand_index_list:\n",
    "        images_list.append(np_images[rand])\n",
    "        labels_list.append(np_labels[rand])\n",
    "    \n",
    "    style = get_rand_style()\n",
    "    padding, padded_img_list = add_random_padding(images_list)\n",
    "    new_img, bbox, new_label = place_images(padded_img_list, padding, labels_list, style, input_shape)\n",
    "    \n",
    "    new_img_resized = scipy.misc.imresize(new_img, output_shape)\n",
    "    box_new = get_new_bbox(bbox, new_img.shape, new_img_resized.shape)\n",
    "    box_np = transform_box_to_np(box_new)\n",
    "    \n",
    "    return(new_img_resized, box_np, new_label)"
   ]
  },
  {
   "cell_type": "code",
   "execution_count": 17,
   "metadata": {
    "collapsed": true
   },
   "outputs": [],
   "source": [
    "def pipeline_primary(np_images, np_labels, target_output, output_shape):\n",
    "    number_of_samples = np_images.shape[0]\n",
    "    rand_dist = get_rand_dist(target_output)\n",
    "    rand_index_list = list()\n",
    "    for rand in rand_dist:\n",
    "        rand_index_list.append(np.random.randint(0, number_of_samples, rand))\n",
    "    \n",
    "    out_images = np.zeros((target_output, output_shape[0], output_shape[1]))\n",
    "    out_labels = np.zeros((target_output, 11))\n",
    "    out_box    = np.zeros((target_output, 4*MAX_DIGITS))\n",
    "    \n",
    "    for i in range(target_output):\n",
    "        new_img_resized, box_np, new_label = pipeline_secondary(np_images, np_labels, rand_index_list[i], output_shape)\n",
    "        out_images[i] = new_img_resized\n",
    "        out_labels[i] = new_label\n",
    "        out_box[i] = box_np\n",
    "        \n",
    "    return(out_images, out_labels, out_box)"
   ]
  },
  {
   "cell_type": "code",
   "execution_count": 26,
   "metadata": {
    "collapsed": true
   },
   "outputs": [],
   "source": [
    "def draw_rectangles(image, bbox_list):\n",
    "    img = Image.fromarray(image)\n",
    "    draw = ImageDraw.Draw(img)\n",
    "    blank_box = [0, 0, 5, 5]\n",
    "    \n",
    "    for i in range(MAX_DIGITS):\n",
    "        bbox = list()\n",
    "        bbox.append(bbox_list[4*i+0])\n",
    "        bbox.append(bbox_list[4*i+1])\n",
    "        bbox.append(bbox_list[4*i+2])\n",
    "        bbox.append(bbox_list[4*i+3])\n",
    "\n",
    "        # Do not draw bounding box for blank image\n",
    "        if bbox != blank_box:\n",
    "            x1, y1, x2, y2 = bbox[0], bbox[1], bbox[2], bbox[3]\n",
    "            draw.rectangle(((x1, y1), (x2, y2)), fill=None, outline=(255))  \n",
    "        \n",
    "    return(np.asarray(img))"
   ]
  },
  {
   "cell_type": "code",
   "execution_count": 48,
   "metadata": {
    "collapsed": true
   },
   "outputs": [],
   "source": [
    "def draw_bbox_images(np_images, np_labels, np_box):\n",
    "    fig, ax = plt.subplots(nrows=int(np_images.shape[0]/2),ncols=2,figsize=(15,64))\n",
    "    \n",
    "    for i in range(np_images.shape[0]):\n",
    "        image = np_images[i]\n",
    "        bbox_list = np_box[i]\n",
    "        label = np_labels[i]\n",
    "\n",
    "        box_img = draw_rectangles(image, bbox_list)\n",
    "        \n",
    "        plt.subplot(np_images.shape[0]/2,2,i+1)\n",
    "        plt.title(label)\n",
    "        plt.imshow(box_img)\n",
    "    plt.show()"
   ]
  },
  {
   "cell_type": "code",
   "execution_count": null,
   "metadata": {
    "collapsed": true
   },
   "outputs": [],
   "source": []
  },
  {
   "cell_type": "code",
   "execution_count": 50,
   "metadata": {},
   "outputs": [],
   "source": [
    "test_images = idx2numpy.convert_from_file(mnist_dataset_location + 't10k-images-idx3-ubyte')\n",
    "test_label = idx2numpy.convert_from_file(mnist_dataset_location + 't10k-labels-idx1-ubyte')\n",
    "\n",
    "train_images = idx2numpy.convert_from_file(mnist_dataset_location + 'train-images-idx3-ubyte')\n",
    "train_label = idx2numpy.convert_from_file(mnist_dataset_location + 'train-labels-idx1-ubyte')"
   ]
  },
  {
   "cell_type": "code",
   "execution_count": 51,
   "metadata": {},
   "outputs": [],
   "source": [
    "test_out_images, test_out_labels, test_out_box = pipeline_primary(test_images, test_label, 25000, OUT_SHAPE)\n",
    "train_out_images, train_out_labels, train_out_box = pipeline_primary(test_images, test_label, 125000, OUT_SHAPE)"
   ]
  },
  {
   "cell_type": "code",
   "execution_count": 52,
   "metadata": {
    "collapsed": true
   },
   "outputs": [],
   "source": [
    "np.save(mnist_dataset_location + 'train_images', train_out_images)\n",
    "np.save(mnist_dataset_location + 'train_labels', train_out_labels)\n",
    "np.save(mnist_dataset_location + 'train_bboxes', train_out_box)\n",
    "\n",
    "np.save(mnist_dataset_location + 'test_images', test_out_images)\n",
    "np.save(mnist_dataset_location + 'test_labels', test_out_labels)\n",
    "np.save(mnist_dataset_location + 'test_bboxes', test_out_box)"
   ]
  },
  {
   "cell_type": "code",
   "execution_count": null,
   "metadata": {
    "collapsed": true
   },
   "outputs": [],
   "source": []
  },
  {
   "cell_type": "code",
   "execution_count": null,
   "metadata": {
    "collapsed": true
   },
   "outputs": [],
   "source": []
  }
 ],
 "metadata": {
  "anaconda-cloud": {},
  "kernelspec": {
   "display_name": "Python 2",
   "language": "python",
   "name": "python2"
  },
  "language_info": {
   "codemirror_mode": {
    "name": "ipython",
    "version": 2
   },
   "file_extension": ".py",
   "mimetype": "text/x-python",
   "name": "python",
   "nbconvert_exporter": "python",
   "pygments_lexer": "ipython2",
   "version": "2.7.13"
  }
 },
 "nbformat": 4,
 "nbformat_minor": 1
}
