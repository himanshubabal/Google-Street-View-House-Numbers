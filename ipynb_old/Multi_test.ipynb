{
 "cells": [
  {
   "cell_type": "code",
   "execution_count": 1,
   "metadata": {
    "collapsed": true
   },
   "outputs": [],
   "source": [
    "from __future__ import print_function\n",
    "import matplotlib.pyplot as plt\n",
    "import numpy as np\n",
    "import os\n",
    "import sys\n",
    "import tarfile\n",
    "from IPython.display import display, Image\n",
    "from PIL import Image\n",
    "import PIL\n",
    "from scipy import ndimage\n",
    "from six.moves.urllib.request import urlretrieve\n",
    "from six.moves import cPickle as pickle\n",
    "import scipy.ndimage\n",
    "import scipy.misc\n",
    "#get_ipython().magic('matplotlib inline')\n",
    "import h5py\n",
    "import gc\n",
    "import time\n",
    "\n",
    "dataset_location = 'datasets/svhn_raw/'\n",
    "# dataset_location = '/Users/himanshubabal/Documents/External_Disk_Link_WD_HDD/Study/SVHN/SVHN-Full_Dataset/'"
   ]
  },
  {
   "cell_type": "code",
   "execution_count": 2,
   "metadata": {
    "collapsed": true
   },
   "outputs": [],
   "source": [
    "class DigitStructFile:\n",
    "    def __init__(self, inf):\n",
    "        self.inf = h5py.File(inf, 'r')\n",
    "        self.digitStructName = self.inf['digitStruct']['name']\n",
    "        self.digitStructBbox = self.inf['digitStruct']['bbox']\n",
    "\n",
    "    def getName(self,n):\n",
    "        return ''.join([chr(c[0]) for c in self.inf[self.digitStructName[n][0]].value])\n",
    "\n",
    "    def bboxHelper(self,attr):\n",
    "        if (len(attr) > 1):\n",
    "            attr = [self.inf[attr.value[j].item()].value[0][0] for j in range(len(attr))]\n",
    "        else:\n",
    "            attr = [attr.value[0][0]]\n",
    "        return attr\n",
    "\n",
    "    def getBbox(self,n):\n",
    "        bbox = {}\n",
    "        bb = self.digitStructBbox[n].item()\n",
    "        bbox['label'] = self.bboxHelper(self.inf[bb][\"label\"])\n",
    "        return bbox\n",
    "\n",
    "    def getDigitStructure(self,n):\n",
    "        s = self.getBbox(n)\n",
    "        s['name']=self.getName(n)\n",
    "        return s\n",
    "\n",
    "    def getAllDigitStructure(self):\n",
    "        return [self.getDigitStructure(i) for i in range(len(self.digitStructName))]\n",
    "    \n",
    "    def getAllDigitStructure_ByDigit(self):\n",
    "        pictDat = self.getAllDigitStructure()\n",
    "        result = []\n",
    "        structCnt = 1\n",
    "        for i in range(len(pictDat)):\n",
    "            item = { 'filename' : pictDat[i][\"name\"] }\n",
    "            figures = []\n",
    "            for j in range(len(pictDat[i]['height'])):\n",
    "                figure = {}\n",
    "                figure['label']  = pictDat[i]['label'][j]\n",
    "                figures.append(figure)\n",
    "            \n",
    "            structCnt = structCnt + 1\n",
    "            item['boxes'] = figures\n",
    "            result.append(item)\n",
    "        return result"
   ]
  },
  {
   "cell_type": "code",
   "execution_count": 3,
   "metadata": {
    "collapsed": true
   },
   "outputs": [],
   "source": [
    "pickle_file = 'datasets/pickles/SVHN_new_data_struct.pickle'\n",
    "\n",
    "if os.path.exists(pickle_file) :\n",
    "    with open(pickle_file, 'rb') as f:\n",
    "        save = pickle.load(f)\n",
    "        test_data = save['test_data']\n",
    "        train_data = save['train_data']\n",
    "        extra_data = save['extra_data']\n",
    "    del save\n",
    "\n",
    "else :\n",
    "    fin = os.path.join(dataset_location + 'test', 'digitStruct.mat')\n",
    "    dsf = DigitStructFile(fin)\n",
    "    test_data = dsf.getAllDigitStructure_ByDigit()\n",
    "\n",
    "    fin = os.path.join(dataset_location + 'train', 'digitStruct.mat')\n",
    "    dsf = DigitStructFile(fin)\n",
    "    train_data = dsf.getAllDigitStructure_ByDigit()\n",
    "\n",
    "    fin = os.path.join(dataset_location + 'extra', 'digitStruct.mat')\n",
    "    dsf = DigitStructFile(fin)\n",
    "    extra_data = dsf.getAllDigitStructure_ByDigit()"
   ]
  },
  {
   "cell_type": "code",
   "execution_count": 4,
   "metadata": {
    "collapsed": false
   },
   "outputs": [],
   "source": [
    "def plot_img(im, l='label'):\n",
    "    if len(im.shape) >= 3:\n",
    "        im = im[:,:,0]\n",
    "    plt.imshow(im)\n",
    "    plt.title(l)\n",
    "    plt.show()"
   ]
  },
  {
   "cell_type": "code",
   "execution_count": 5,
   "metadata": {
    "collapsed": false
   },
   "outputs": [],
   "source": [
    "def process_image(data, folder):\n",
    "    images = np.ndarray([len(data), 32, 96, 1], dtype='int32')\n",
    "    labels = np.ndarray([len(data), 6], dtype='int32')\n",
    "    folder_name = folder\n",
    "    l = len(data)\n",
    "\n",
    "    for i in range(l) :\n",
    "        image = data[i]\n",
    "        image_name = dataset_location + folder_name + '/' + image['filename']\n",
    "\n",
    "        img = Image.open(image_name)\n",
    "        img = img.resize((96,32), PIL.Image.ANTIALIAS)\n",
    "        img = np.asarray(img, dtype=\"int32\")\n",
    "        img = np.dot(img, [[0.2989],[0.5870],[0.1140]])\n",
    "\n",
    "#         mean = np.mean(img, dtype='float32')\n",
    "#         std = np.std(img, dtype='float32', ddof=1)\n",
    "#         if std < 1e-4:\n",
    "#             std = 1.0\n",
    "\n",
    "#         img = (img - mean)/std\n",
    "\n",
    "        no_of_digits = len(image['boxes'])\n",
    "        if no_of_digits > 5:\n",
    "            continue\n",
    "\n",
    "        dig = np.array([])\n",
    "        dig = np.append(dig, no_of_digits)\n",
    "\n",
    "        for j in range(no_of_digits) :\n",
    "            digit = image['boxes'][j]['label']\n",
    "            dig = np.append(dig, digit)\n",
    "\n",
    "        zeros = 5 - no_of_digits\n",
    "        for z in range(zeros) :\n",
    "            dig = np.append(dig, 0)\n",
    "\n",
    "        images[i] = img\n",
    "        labels[i] = dig\n",
    "        \n",
    "    return(images, labels)"
   ]
  },
  {
   "cell_type": "code",
   "execution_count": 6,
   "metadata": {
    "collapsed": true
   },
   "outputs": [],
   "source": [
    "test_images, test_labels = process_image(test_data, 'test')"
   ]
  },
  {
   "cell_type": "code",
   "execution_count": 8,
   "metadata": {
    "collapsed": true
   },
   "outputs": [],
   "source": [
    "train_images, train_labels = process_image(train_data, 'train')"
   ]
  },
  {
   "cell_type": "code",
   "execution_count": 9,
   "metadata": {
    "collapsed": true
   },
   "outputs": [],
   "source": [
    "extra_images, extra_labels = process_image(extra_data, 'extra')"
   ]
  },
  {
   "cell_type": "code",
   "execution_count": 10,
   "metadata": {
    "collapsed": false
   },
   "outputs": [],
   "source": [
    "# test_images, test_labels = process_image(test_data, 'test')\n",
    "# train_images, train_labels = process_image(train_data, 'train')\n",
    "# extra_images, extra_labels = process_image(extra_data, 'extra')"
   ]
  },
  {
   "cell_type": "code",
   "execution_count": 11,
   "metadata": {
    "collapsed": true
   },
   "outputs": [],
   "source": [
    "del test_data, train_data, extra_data"
   ]
  },
  {
   "cell_type": "code",
   "execution_count": 13,
   "metadata": {
    "collapsed": false
   },
   "outputs": [
    {
     "data": {
      "text/plain": [
       "(13068, 32, 96, 1)"
      ]
     },
     "execution_count": 13,
     "metadata": {},
     "output_type": "execute_result"
    }
   ],
   "source": [
    "test_images.shape"
   ]
  },
  {
   "cell_type": "code",
   "execution_count": 14,
   "metadata": {
    "collapsed": false
   },
   "outputs": [],
   "source": [
    "comb_images = np.concatenate((train_images,extra_images),axis=0)\n",
    "comb_labels = np.concatenate((train_labels,extra_labels),axis=0)"
   ]
  },
  {
   "cell_type": "code",
   "execution_count": 15,
   "metadata": {
    "collapsed": false
   },
   "outputs": [
    {
     "name": "stdout",
     "output_type": "stream",
     "text": [
      "Train :  (229089, 32, 96, 1) (229089, 6)\n",
      "Test :  (13068, 32, 96, 1) (13068, 6)\n",
      "Validation :  (6666, 32, 96, 1) (6666, 6)\n",
      "SVHN Datasets ready in SVHN_multi_new.hdf5\n"
     ]
    }
   ],
   "source": [
    "del train_images\n",
    "del train_labels \n",
    "del extra_images\n",
    "del extra_labels\n",
    "\n",
    "length_all = comb_labels.shape[0]\n",
    "shuffle_all = np.arange(length_all)\n",
    "np.random.shuffle(shuffle_all)\n",
    "\n",
    "valid_set = shuffle_all[0:6666]\n",
    "train_set = shuffle_all[6666:]\n",
    "\n",
    "valid_images = comb_images[valid_set,:,:,:]\n",
    "valid_labels = comb_labels[valid_set,:]\n",
    "\n",
    "train_images = comb_images[train_set,:,:,:]\n",
    "train_labels = comb_labels[train_set,:]\n",
    "\n",
    "print(\"Train : \", train_images.shape, train_labels.shape)\n",
    "print(\"Test : \", test_images.shape, test_labels.shape)\n",
    "print(\"Validation : \", valid_images.shape, valid_labels.shape)\n",
    "\n",
    "hdf_file = 'datasets/pickles/SVHN_multi.hdf5'\n",
    "\n",
    "hdf = h5py.File(hdf_file, 'w')\n",
    "\n",
    "with hdf as hf:\n",
    "    hf.create_dataset(\"train_images\",  data=train_images)\n",
    "    hf.create_dataset(\"train_labels\",  data=train_labels)\n",
    "    hf.create_dataset(\"valid_images\",  data=valid_images)\n",
    "    hf.create_dataset(\"valid_labels\",  data=valid_labels)\n",
    "    hf.create_dataset(\"test_images\",  data=test_images)\n",
    "    hf.create_dataset(\"test_labels\",  data=test_labels)\n",
    "\n",
    "print('SVHN Datasets ready in SVHN_multi_new.hdf5')"
   ]
  },
  {
   "cell_type": "code",
   "execution_count": null,
   "metadata": {
    "collapsed": true
   },
   "outputs": [],
   "source": []
  },
  {
   "cell_type": "code",
   "execution_count": null,
   "metadata": {
    "collapsed": true
   },
   "outputs": [],
   "source": []
  },
  {
   "cell_type": "code",
   "execution_count": null,
   "metadata": {
    "collapsed": true
   },
   "outputs": [],
   "source": []
  },
  {
   "cell_type": "code",
   "execution_count": null,
   "metadata": {
    "collapsed": true
   },
   "outputs": [],
   "source": []
  },
  {
   "cell_type": "code",
   "execution_count": null,
   "metadata": {
    "collapsed": true
   },
   "outputs": [],
   "source": []
  },
  {
   "cell_type": "code",
   "execution_count": null,
   "metadata": {
    "collapsed": true
   },
   "outputs": [],
   "source": []
  },
  {
   "cell_type": "code",
   "execution_count": null,
   "metadata": {
    "collapsed": true
   },
   "outputs": [],
   "source": [
    "test_images = np.ndarray([len(test_data), 32, 96, 1], dtype='int32')\n",
    "test_labels = np.ndarray([len(test_data), 6], dtype='int32')\n",
    "folder_name = 'test'\n",
    "l = len(test_data)\n",
    "\n",
    "for i in range(l) :\n",
    "    image = test_data[i]\n",
    "    image_name = dataset_location + folder_name + '/' + image['filename']\n",
    "\n",
    "    img = Image.open(image_name)\n",
    "    img.load()\n",
    "    img = np.asarray(img, dtype=\"int32\")\n",
    "\n",
    "    # Resizing Image to be of 32x96x3 dimensions\n",
    "    img = scipy.misc.imresize(img, (32, 96))\n",
    "    # Converting A x B x 3 -> A x B x 1\n",
    "    img = np.dot(img, [[0.2989],[0.5870],[0.1140]])\n",
    "\n",
    "    # Mean and Std Deviation of Image\n",
    "    mean = np.mean(img, dtype='float32')\n",
    "    std = np.std(img, dtype='float32', ddof=1)\n",
    "    if std < 1e-4:\n",
    "        std = 1.0\n",
    "    # Normalizing the image\n",
    "    im = (img - mean)/std\n",
    "\n",
    "    # Finding No of Digits in given image\n",
    "    no_of_digits = len(image['boxes'])\n",
    "    # If no of digits is > 5\n",
    "    # Leave this example out, as we don't need it\n",
    "    # Continue to next Iteration\n",
    "    if no_of_digits > 5:\n",
    "        #print('more then 5 digits', image['boxes'])\n",
    "        continue\n",
    "\n",
    "    # Numpy Array 'dig' will contain digits in the format :\n",
    "    # [No_of_digits, _, _, _, _, _]\n",
    "    dig = np.array([])\n",
    "    dig = np.append(dig, no_of_digits)\n",
    "\n",
    "    for j in range(no_of_digits) :\n",
    "        digit = image['boxes'][j]['label']\n",
    "        dig = np.append(dig, digit)\n",
    "\n",
    "    # Appending '0' to represent Empty Space\n",
    "    zeros = 5 - no_of_digits\n",
    "    for z in range(zeros) :\n",
    "        dig = np.append(dig, 0)\n",
    "\n",
    "    test_images[i,:,:,:] = im[:,:,:]\n",
    "    test_labels[i,:] = dig"
   ]
  },
  {
   "cell_type": "code",
   "execution_count": null,
   "metadata": {
    "collapsed": true
   },
   "outputs": [],
   "source": [
    "l = len(train_data)\n",
    "more_then_5_counter = 0\n",
    "train_images = np.ndarray([l, 32, 96, 1], dtype='int32')\n",
    "train_labels = np.ndarray([l, 6], dtype='int32')\n",
    "folder_name = 'train'\n",
    "\n",
    "\n",
    "for i in range(l) :\n",
    "    image = train_data[i]\n",
    "    image_name = dataset_location + folder_name + '/' + image['filename']\n",
    "\n",
    "    img = Image.open(image_name)\n",
    "    img.load()\n",
    "    img = np.asarray(img, dtype=\"int32\")\n",
    "\n",
    "    img = scipy.misc.imresize(img, (32, 96))\n",
    "    img = np.dot(img, [[0.2989],[0.5870],[0.1140]])\n",
    "\n",
    "    mean = np.mean(img, dtype='float32')\n",
    "    std = np.std(img, dtype='float32', ddof=1)\n",
    "    if std < 1e-4:\n",
    "        std = 1.0\n",
    "    im = (img - mean)/std\n",
    "\n",
    "    no_of_digits = len(image['boxes'])\n",
    "    if no_of_digits > 5:\n",
    "        more_then_5_counter += 1\n",
    "        continue\n",
    "\n",
    "    dig = np.array([])\n",
    "    dig = np.append(dig, no_of_digits)\n",
    "\n",
    "    for j in range(no_of_digits) :\n",
    "        digit = image['boxes'][j]['label']\n",
    "        dig = np.append(dig, digit)\n",
    "\n",
    "    zeros = 5 - no_of_digits\n",
    "    for z in range(zeros) :\n",
    "        dig = np.append(dig, 0)\n",
    "\n",
    "    train_images[i,:,:,:] = im[:,:,:]\n",
    "    train_labels[i,:] = dig\n",
    "\n",
    "\n",
    "    #if i % 5000 == 0:\n",
    "        #print('progress : ', (i/l)*100, '%')\n",
    "\n",
    "#print('Cases Containing More then 5 Digits : ', more_then_5_counter)\n",
    "\n",
    "\n",
    "l = len(extra_data)\n",
    "more_then_5_counter = 0\n",
    "extra_images = np.ndarray([l, 32, 96, 1], dtype='int32')\n",
    "extra_labels = np.ndarray([l, 6], dtype='int32')\n",
    "folder_name = 'extra'\n",
    "\n",
    "for i in range(l) :\n",
    "    image = extra_data[i]\n",
    "    image_name = dataset_location + folder_name + '/' + image['filename']\n",
    "\n",
    "    img = Image.open(image_name)\n",
    "    img.load()\n",
    "    img = np.asarray(img, dtype=\"int32\")\n",
    "\n",
    "    img = scipy.misc.imresize(img, (32, 96))\n",
    "    img = np.dot(img, [[0.2989],[0.5870],[0.1140]])\n",
    "\n",
    "    mean = np.mean(img, dtype='float32')\n",
    "    std = np.std(img, dtype='float32', ddof=1)\n",
    "    if std < 1e-4:\n",
    "        std = 1.0\n",
    "    im = (img - mean)/std\n",
    "\n",
    "    no_of_digits = len(image['boxes'])\n",
    "    if no_of_digits > 5:\n",
    "        more_then_5_counter += 1\n",
    "        continue\n",
    "\n",
    "    dig = np.array([])\n",
    "    dig = np.append(dig, no_of_digits)\n",
    "\n",
    "    for j in range(no_of_digits) :\n",
    "        digit = image['boxes'][j]['label']\n",
    "        dig = np.append(dig, digit)\n",
    "\n",
    "    zeros = 5 - no_of_digits\n",
    "    for z in range(zeros) :\n",
    "        dig = np.append(dig, 0)\n",
    "\n",
    "\n",
    "    extra_images[i,:,:,:] = im[:,:,:]\n",
    "    extra_labels[i,:] = dig\n",
    "\n",
    "    #if i % 25000 == 0:\n",
    "        #print('progress : ', (i/l)*100, '%')\n",
    "\n",
    "#print('Cases Containing More then 5 Digits : ', more_then_5_counter)\n",
    "\n",
    "del test_data, train_data, extra_data\n",
    "\n",
    "comb_images = np.concatenate((train_images,extra_images),axis=0)\n",
    "comb_labels = np.concatenate((train_labels,extra_labels),axis=0)\n",
    "#print(comb_images.shape, comb_labels.shape)\n"
   ]
  },
  {
   "cell_type": "code",
   "execution_count": null,
   "metadata": {
    "collapsed": true
   },
   "outputs": [],
   "source": []
  },
  {
   "cell_type": "code",
   "execution_count": null,
   "metadata": {
    "collapsed": true
   },
   "outputs": [],
   "source": []
  }
 ],
 "metadata": {
  "kernelspec": {
   "display_name": "Python 3",
   "language": "python",
   "name": "python3"
  },
  "language_info": {
   "codemirror_mode": {
    "name": "ipython",
    "version": 3
   },
   "file_extension": ".py",
   "mimetype": "text/x-python",
   "name": "python",
   "nbconvert_exporter": "python",
   "pygments_lexer": "ipython3",
   "version": "3.6.0"
  }
 },
 "nbformat": 4,
 "nbformat_minor": 2
}
